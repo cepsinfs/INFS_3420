{
 "cells": [
  {
   "cell_type": "markdown",
   "id": "d1956435",
   "metadata": {},
   "source": [
    "## OpenAI Essentials"
   ]
  },
  {
   "cell_type": "markdown",
   "id": "15c8c4ed",
   "metadata": {},
   "source": [
    "### Creating account and Setting Up the OpenAI API Keys\n",
    "\n",
    "1. Signup on https://platform.openai.com/signup\n",
    "2. Go to **Personel >> Manage Account >> API Keys**\n",
    "3. Click on the `Create new secret key` button\n",
    "4. Copy and save the key. It will be displayed only once. If you miss it, you have to create a new key then"
   ]
  },
  {
   "cell_type": "markdown",
   "id": "a1129a43",
   "metadata": {},
   "source": [
    "```Python\n",
    "openai.api_key = \"Your API KEY\"\n",
    "\n",
    "response = openai.Completion.create(\n",
    "    model = \"text-davinci-003\", \n",
    "    prompt = feedback,\n",
    "    max_tokens = 50,\n",
    "    temperature = 0\n",
    ")\n",
    "reply = response['choices'][0]['text']\n",
    "```"
   ]
  },
  {
   "cell_type": "markdown",
   "id": "031a509f",
   "metadata": {},
   "source": [
    "- The `create()` is used to create a completion (response) object for the provided prompt/query and parameters\n",
    "\n",
    "- The `model` attribute specifies the LLM model to be used to derive the response for the prompt/query\n",
    "\n",
    "- `prompt` specifies the query asked\n",
    "\n",
    "- `max_tokens` specifies the number of tokens in the response. Tokens can be words or just chunks of characters. For example, the word **hamburger** gets broken up into the tokens **ham**, **bur** and **ger**, while a short and common word like **pear** is a single token. Many tokens start with a whitespace, for example ** hello** and ** bye**.\n",
    "\n",
    "- `temperature` between 0 and 2. Higher values like 0.8 will make the output more random, while lower values like 0.2 will make it more focused and deterministic."
   ]
  },
  {
   "cell_type": "markdown",
   "id": "a734697b",
   "metadata": {},
   "source": [
    "## Email Essentials"
   ]
  },
  {
   "cell_type": "markdown",
   "id": "53c47258",
   "metadata": {},
   "source": [
    "### Generating App Password in Gmail\n",
    "1.\tGo to https://myaccount.google.com \n",
    "2.\tGo to the Security Tab\n",
    "3.\tTurn On 2-step verification (if not turned on previously)\n",
    "a.\tProvide your phone \n",
    "b.\tEnter the code received via phone\n",
    "c.\tComplete the verification\n",
    "4.\tNow, go to https://myaccount.google.com/apppasswords\n",
    "    - You have to manually type the URL above\n",
    "    - IF you have multiple accounts make sure that you use the correct user account number. Your link in that case should look like https://myaccount.google.com/u/1/apppasswords  where 1 is the user account number for which you have turned on the 2-step verification\n",
    "    - Make sure that it is still the same account for which you have turned on the 2-step verification\n",
    "5.\tFrom the Select App dropdown menu select “Other (Custom name)”\n",
    "6.\tAdd any name, e.g. pythonProject and click the Generate button \n",
    "7.\tCopy and save the password in a variable in your script. Note that you MUST save this password before you complete the wizard as it will be shown only once\n",
    "    - If you miss saving it, you have to create another app in the manner as detailed in point 4 – 7\n"
   ]
  },
  {
   "cell_type": "markdown",
   "id": "2652055d",
   "metadata": {},
   "source": [
    "### Essential Libraries/Modules/Classes for creating and sending email\n",
    "```Python \n",
    "from email.message import EmailMessage\n",
    "```\n",
    "The central class in the email package is the EmailMessage class, imported from the email.message module. It is the base class for the email object model. EmailMessage provides the core functionality for setting and querying header fields, for accessing message bodies, and for creating or modifying structured messages.\n",
    "The email package is usually preinstalled in Anaconda. If not, use pip install email to install it\n",
    "\n",
    "```Python\n",
    "import ssl\n",
    "```\n",
    "This module provides access to Transport Layer Security (often known as “Secure Sockets Layer”) encryption and peer authentication facilities for network sockets, both client-side and server-side. This module uses the OpenSSL library. Since GMAIL uses SSL for email sending, this module is essential to use in the script.  If not previously, use pip install ssl to install it\n",
    "\n",
    "```Python\n",
    "import smtplib\n",
    "```\n",
    "The smtplib module defines an SMTP client session object that can be used to send mail to any internet machine with an SMTP or ESMTP listener daemon. If not previously, use pip install smtplib to install it\n"
   ]
  },
  {
   "cell_type": "markdown",
   "id": "3427106e",
   "metadata": {},
   "source": [
    "### CREATE the email script variables and the email objects\n",
    "```Python\n",
    "#--------------------Creating Local/Script variable-------------------------------------------\n",
    "\n",
    "sender=\"your_id@gmail.com\"\n",
    "password=\"Your_app_password_that_you_saved\"\n",
    "recv=\"recv_id@gmail.com\"\n",
    "subject = \"Feedback from Portal\" # USE Your own subject\n",
    "\n",
    "# Setting the body - Sample content\n",
    "body = '''\n",
    "\n",
    "Hello Student, I am here to give you my feedback. Check out our website https://www.squ.edu.om\n",
    "\n",
    "'''\n",
    "#----------------------Creating the email object---------------------------------------------\n",
    "em = EmailMessage() \n",
    "em['From'] = sender\n",
    "em ['To'] = recv\n",
    "em['Subject'] = subject\n",
    "em.set_content(body)\n",
    "\n",
    "#---------------------Creating a secure context for the email using which the email will be wrapped-------------------\n",
    "context = ssl.create_default_context()\n",
    "\n",
    "#---------------------Sending Email with the GMAIL settings and the created context-------------------------------------\n",
    "with smtplib.SMTP_SSL('smtp.gmail.com', 465, context=context) as smtp:\n",
    "    smtp.login(sender, password)\n",
    "    \n",
    "```\n"
   ]
  },
  {
   "cell_type": "code",
   "execution_count": null,
   "id": "3daaef37",
   "metadata": {},
   "outputs": [],
   "source": []
  }
 ],
 "metadata": {
  "kernelspec": {
   "display_name": "Python 3 (ipykernel)",
   "language": "python",
   "name": "python3"
  },
  "language_info": {
   "codemirror_mode": {
    "name": "ipython",
    "version": 3
   },
   "file_extension": ".py",
   "mimetype": "text/x-python",
   "name": "python",
   "nbconvert_exporter": "python",
   "pygments_lexer": "ipython3",
   "version": "3.9.13"
  }
 },
 "nbformat": 4,
 "nbformat_minor": 5
}
