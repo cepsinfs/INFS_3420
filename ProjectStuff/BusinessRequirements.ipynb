{
 "cells": [
  {
   "cell_type": "markdown",
   "id": "86711ffc",
   "metadata": {
    "slideshow": {
     "slide_type": "slide"
    }
   },
   "source": [
    "> # <center>Business Problem </center>\n",
    "    \n",
    "<div class=\"alert alert-block alert-danger\">\n",
    "   <center> How can a user or an analyst visualize twitter data to investigate the related major statistics?<center>\n",
    "</div>"
   ]
  },
  {
   "cell_type": "markdown",
   "id": "0858fd13",
   "metadata": {
    "slideshow": {
     "slide_type": "slide"
    }
   },
   "source": [
    "> # User Requirements\n",
    "---\n",
    "<div class=\"alert alert-block alert-info\">\n",
    "<ul>\n",
    "<li>U1 - User should be able to upload a stored file\n",
    "<li>U2 - User should be able to preview the entire dataset\n",
    "<li>U3 - User can preview data based on the chosen features of the data set\n",
    "<li>U4 - User can preview Tweet related statistics\n",
    "    </ul>\n",
    "    <div"
   ]
  },
  {
   "cell_type": "markdown",
   "id": "502e7e18",
   "metadata": {
    "slideshow": {
     "slide_type": "slide"
    }
   },
   "source": [
    "> # Functional Requirements\n",
    "---\n",
    "<div class=\"alert alert-block alert-warning\">\n",
    "<ul>\n",
    "<li>F1 - The application should accept only `CSV` and `XLSX` files\n",
    "<li>F2 - The system should present file details and contents in a tabular format\n",
    "<li>F3 - The system should implelment a multiple select box with default all data columns as defult feature selection\n",
    "<li>F4 - The application should let the user to choose features and display tabular data accordingly\n",
    "<li>F5 - The application should analyze and present tweets statistics as soon as the data is loaded\n",
    "</ul>\n",
    "<div>"
   ]
  }
 ],
 "metadata": {
  "celltoolbar": "Slideshow",
  "kernelspec": {
   "display_name": "Python 3 (ipykernel)",
   "language": "python",
   "name": "python3"
  },
  "language_info": {
   "codemirror_mode": {
    "name": "ipython",
    "version": 3
   },
   "file_extension": ".py",
   "mimetype": "text/x-python",
   "name": "python",
   "nbconvert_exporter": "python",
   "pygments_lexer": "ipython3",
   "version": "3.9.12"
  }
 },
 "nbformat": 4,
 "nbformat_minor": 5
}
