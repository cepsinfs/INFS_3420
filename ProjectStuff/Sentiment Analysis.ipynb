{
 "cells": [
  {
   "cell_type": "markdown",
   "id": "4f361ac4",
   "metadata": {
    "slideshow": {
     "slide_type": "slide"
    }
   },
   "source": [
    "# Subjectivity\n",
    "A process that automates mining of attitudes, opinions, views and emotions from text, speech, tweets and database sources through Natural Language Processing (NLP). Sentiment analysis involves classifying opinions in text into categories like “positive” or “negative” or “neutral”.\n",
    "\n",
    "For example: ‘I’m very happy with my new smartphone because it has the highest performance available on the market.’ \n",
    "\n",
    "\n",
    "The statement here is clearly subjective because the user is actually talking about his experience and how he feels about an object.\n",
    "\n",
    "**Ranges from 0-1** Higher the value, higher is the subjectivity\n"
   ]
  },
  {
   "cell_type": "markdown",
   "id": "3a727d84",
   "metadata": {
    "slideshow": {
     "slide_type": "slide"
    }
   },
   "source": [
    "# Polarity \n",
    "refers to the strength of feeling in an opinion.\n",
    "\n",
    "‘I don’t think I’ll buy this item because my previous experience with a similar item wasn’t so good.’\n",
    "\n",
    "**Ranges from -1 to 1**  negative value: negative feeling, 0 indicate neutral feeling, and a positive number indicate pasotive sentiment\n"
   ]
  },
  {
   "cell_type": "markdown",
   "id": "2929a1a0",
   "metadata": {
    "slideshow": {
     "slide_type": "slide"
    }
   },
   "source": [
    "### TextBlob\n",
    "\n",
    "[TextBlob](https://textblob.readthedocs.io/en/dev/quickstart.html) aims to provide access to common text-processing operations through a familiar interface. You can treat TextBlob objects as if they were Python strings that learned how to do Natural Language Processing.\n",
    "\n",
    "[TextBlob Sentiment Analysis](https://textblob.readthedocs.io/en/dev/quickstart.html#sentiment-analysis)\n",
    "\n",
    "\n",
    "\n",
    "`from textblob import TextBlob`"
   ]
  },
  {
   "cell_type": "markdown",
   "id": "5a552068",
   "metadata": {
    "slideshow": {
     "slide_type": "slide"
    }
   },
   "source": [
    "## Steps in Sentiment Analysis\n",
    "\n",
    "**Step 1** - Calculate Subjectivity of each text(tweet) and adding a column (Subjectivity) for it in the data set\n",
    "\n",
    "**Step 2** - Calculate Polarity and adding a column (Polarity) for it in the data set\n",
    "\n",
    "**Step 3** - Creating labels (Positive | Negative | Neutral) based on the Polarity, and adding a colum (Analysis) for it in the data set\n"
   ]
  },
  {
   "cell_type": "code",
   "execution_count": null,
   "id": "e53ea86f",
   "metadata": {
    "slideshow": {
     "slide_type": "slide"
    }
   },
   "outputs": [],
   "source": [
    "def getSub(text):\n",
    "    return TextBlob(text).sentiment.subjectivity\n",
    "\n",
    "def getPol(text):\n",
    "    return TextBlob(text).sentiment.polarity\n",
    "\n",
    "\n",
    "def getAnalysis(polScore):\n",
    "    if polScore < 0:\n",
    "        return \"Negative\"\n",
    "    elif polScore == 0:\n",
    "        return \"Neutral\"\n",
    "    elif polScore > 0:\n",
    "        return \"Positive\""
   ]
  },
  {
   "cell_type": "markdown",
   "id": "f520bece",
   "metadata": {
    "slideshow": {
     "slide_type": "slide"
    }
   },
   "source": [
    "## Graphical Visualization of the Sentiment Analysis\n",
    "\n",
    "### Using `WordCloud`\n",
    "\n",
    "`from wordcloud import WordCloud`\n",
    "\n",
    "#### Creating the word book\n",
    "\n",
    "`allWords = ''.join([text for text in file_df['text']])` \n",
    "\n",
    "- gets each tweet text from the `file_df['text']` column, save it in the `text` var\n",
    "- joins it with the next tweet using a `space` \n",
    "- put/saves all the join words as a list in `allwords` var\n",
    "\n"
   ]
  },
  {
   "cell_type": "markdown",
   "id": "ac825e11",
   "metadata": {
    "slideshow": {
     "slide_type": "slide"
    }
   },
   "source": [
    "#### Creating the Word Cloud image\n",
    "\n",
    "* create an object  of the `WordCloud` class\n",
    "\n",
    "`wcloud = WordCloud(background_color='white').generate(allWords)`\n",
    "\n",
    "* `allWords` is the word list based on which the object `wcloud` is created\n",
    "\n",
    "* Create the image: `plt.imshow(wcloud)` \n",
    "    * `plt` is an object of the `matplotlib.pyplot` library\n",
    "    * `import matplotlib.pyplot as plt`\n",
    "    * better to define a plot style `plt.style.use('fivethirtyeight')`\n",
    "\n",
    "* display the image: `st.pyplot()`\n"
   ]
  },
  {
   "cell_type": "markdown",
   "id": "3ac11606",
   "metadata": {
    "slideshow": {
     "slide_type": "slide"
    }
   },
   "source": [
    "### Using `Matplotlib.pyplot Charts/Graphs`\n",
    "\n",
    "* Create a var lab_num series/array to store all the unique values in the Analysis column\n",
    "`lab_num = file_df.Analysis.value_counts()` \n",
    "\n",
    "* Create Bar chart: `st.bar_chart(lab_num)`\n",
    "\n",
    "\n"
   ]
  },
  {
   "cell_type": "markdown",
   "id": "20f12ae1",
   "metadata": {
    "slideshow": {
     "slide_type": "slide"
    }
   },
   "source": [
    "* Or, use matplotlib charts as:\n",
    "    \n",
    "    * Bar Chart:\n",
    "    \n",
    "        * Extract labels (Positive, negative, neutral) as `lab = lab_num.index.values`\n",
    "        * Extract count of each label as `num = lab_num.to_numpy()`\n",
    "        \n",
    "        >> fig, ax = plt.subplots() <br>\n",
    "        >> ax.bar(lab, num)  <br>\n",
    "        >> ax.set_xlabel('Sentiment')  <br>\n",
    "        >> ax.set_ylabel('Count')  <br>\n",
    "        >> st.pyplot(fig) ` \n",
    "     \n",
    "     * Pie Chart\n",
    "         >> fig, ax = plt.subplots() <br>\n",
    "            ax.pie(num, labels=lab, explode=(0.2, 0, 0), shadow=True, autopct='%1.2f%%')<br>\n",
    "            st.pyplot(fig)\n"
   ]
  },
  {
   "cell_type": "code",
   "execution_count": null,
   "id": "cf86291d",
   "metadata": {},
   "outputs": [],
   "source": []
  }
 ],
 "metadata": {
  "celltoolbar": "Slideshow",
  "kernelspec": {
   "display_name": "Python 3 (ipykernel)",
   "language": "python",
   "name": "python3"
  },
  "language_info": {
   "codemirror_mode": {
    "name": "ipython",
    "version": 3
   },
   "file_extension": ".py",
   "mimetype": "text/x-python",
   "name": "python",
   "nbconvert_exporter": "python",
   "pygments_lexer": "ipython3",
   "version": "3.9.12"
  }
 },
 "nbformat": 4,
 "nbformat_minor": 5
}
