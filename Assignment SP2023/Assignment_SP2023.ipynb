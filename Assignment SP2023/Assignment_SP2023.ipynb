{
 "cells": [
  {
   "cell_type": "markdown",
   "id": "8f6b43a8",
   "metadata": {},
   "source": [
    "# INFS 3420 Assignment 1 - Spring 2023"
   ]
  },
  {
   "cell_type": "markdown",
   "id": "0f173b15",
   "metadata": {},
   "source": [
    "## Objective\n",
    "The objective of this assignment is to enable the student to identify and apply programing essentials that would satify a set of business functions (functional/user requirements)\n",
    "\n",
    "<div class=\"alert alert-warning\"><h2> Deadline: <u>30th March, 2023 </u>  No Further Extensions</h2> </div>\n",
    "\n",
    "### Assignment Weight: 10% of the Final Grade\n",
    "\n",
    "### Type: \n",
    "The assignment can be done individually or in a group with not more than **2** members\n",
    "\n",
    "### Submission\n",
    "Each group/individual should submit their `.ipynb` or `py` files via email to the Instructor by the deadline.\n",
    "\n",
    "### Functional/User Requirements\n",
    "\n",
    "### Text Analysis \n",
    "- Given a **text file** (`.txt`), creat a script that will satisfy the following functional/user requirements:\n",
    "\n",
    ">- The script should let the user to use/upload any `.txt` file\n",
    ">- Display the content of the file\n",
    ">- Organized/neat display of each **unique word** and its occurance/count (how many times does it occurs in the text).  \n",
    ">- Display the **top 5** most occuring words along with their occurance/count\n",
    ">- The user of the script should be able to select a word **from the identified Top 5 list**. When the user selects a word, the script should display all the corresponding Sentences/Lines from the text file containing that word\n",
    "\n",
    "\n",
    "[[**Sample App for reference**]](https://cepsinfs-textanalysis-text-analysis-thjoop.streamlit.app/)\n",
    "\n",
    "\n",
    "<div class=\"alert alert-info\"><h2> You can take as much as you can from the internet. However, you MUST be able to explain what you taken/adopted</h2> </div>\n",
    "\n",
    ">- **Warning:** The content of the file should not be more than 100 lines/sentences"
   ]
  }
 ],
 "metadata": {
  "kernelspec": {
   "display_name": "Python 3 (ipykernel)",
   "language": "python",
   "name": "python3"
  },
  "language_info": {
   "codemirror_mode": {
    "name": "ipython",
    "version": 3
   },
   "file_extension": ".py",
   "mimetype": "text/x-python",
   "name": "python",
   "nbconvert_exporter": "python",
   "pygments_lexer": "ipython3",
   "version": "3.9.13"
  }
 },
 "nbformat": 4,
 "nbformat_minor": 5
}
