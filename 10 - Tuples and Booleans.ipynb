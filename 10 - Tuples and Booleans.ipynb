{
 "cells": [
  {
   "cell_type": "markdown",
   "id": "0529bfff",
   "metadata": {
    "slideshow": {
     "slide_type": "slide"
    }
   },
   "source": [
    "# <center>Tuples</center>\n",
    "***\n",
    "* Tuples are very similar to lists. However they have one key difference - **immutability**.\n",
    "* Once an element is inside a tuple, it can not be reassigned, i.e., it is immutable.\n",
    "* Tuples use parenthesis:  **(1,2,3)**\n",
    "* Tuples can have mixed data types and repeated items, like lists \n",
    "* Tuple's items can be indexed (with [ ] ), like Lists - They are **ordered** sequence\n",
    "    * Therefore, indexing and slicing can also be performed in Tuples\n",
    "* Tuple is a **FIXED** definition of items. You cannot add/remove items to/from it directly\n",
    "\n",
    "## <div class=\"alert-warning\" align = \"center\">Guess where such data object could be used??</div>\n",
    "\n"
   ]
  },
  {
   "cell_type": "markdown",
   "id": "100eb937",
   "metadata": {
    "slideshow": {
     "slide_type": "slide"
    }
   },
   "source": [
    "## Exmples"
   ]
  },
  {
   "cell_type": "code",
   "execution_count": 1,
   "id": "b12dda03",
   "metadata": {
    "slideshow": {
     "slide_type": "fragment"
    }
   },
   "outputs": [
    {
     "name": "stdout",
     "output_type": "stream",
     "text": [
      "(1, 2, 'three', 4.5, 1)\n"
     ]
    },
    {
     "data": {
      "text/plain": [
       "tuple"
      ]
     },
     "execution_count": 1,
     "metadata": {},
     "output_type": "execute_result"
    }
   ],
   "source": [
    "# Tuples definition\n",
    "\n",
    "mytuple = (1, 2, 'three', 4.5, 1) # can have mixed data types and repeated items\n",
    "\n",
    "print(mytuple)\n",
    "type(mytuple)"
   ]
  },
  {
   "cell_type": "code",
   "execution_count": 2,
   "id": "d491e76a",
   "metadata": {
    "slideshow": {
     "slide_type": "slide"
    }
   },
   "outputs": [
    {
     "name": "stdout",
     "output_type": "stream",
     "text": [
      "4.5\n",
      "Last items is:  1\n"
     ]
    }
   ],
   "source": [
    "# Accessing elements of a Tuple\n",
    "\n",
    "print(mytuple[3])\n",
    "\n",
    "# Reverse Indexing\n",
    "\n",
    "print(\"Last items is: \", mytuple[-1]) # last item"
   ]
  },
  {
   "cell_type": "code",
   "execution_count": 3,
   "id": "61d2e8b4",
   "metadata": {
    "slideshow": {
     "slide_type": "fragment"
    }
   },
   "outputs": [
    {
     "name": "stdout",
     "output_type": "stream",
     "text": [
      "(2, 'three', 4.5)\n",
      "(1, 4.5, 'three', 2, 1)\n"
     ]
    }
   ],
   "source": [
    "# Slicing \n",
    "\n",
    "print(mytuple[1:4])\n",
    "\n",
    "print(mytuple[::-1]) # Reversing the tuple with reverse stepping\n",
    "\n"
   ]
  },
  {
   "cell_type": "markdown",
   "id": "f858d934",
   "metadata": {
    "slideshow": {
     "slide_type": "slide"
    }
   },
   "source": [
    "### Tuples are IMMUTABLE"
   ]
  },
  {
   "cell_type": "code",
   "execution_count": 4,
   "id": "00fd5ef1",
   "metadata": {
    "slideshow": {
     "slide_type": "fragment"
    }
   },
   "outputs": [
    {
     "ename": "TypeError",
     "evalue": "'tuple' object does not support item assignment",
     "output_type": "error",
     "traceback": [
      "\u001b[1;31m---------------------------------------------------------------------------\u001b[0m",
      "\u001b[1;31mTypeError\u001b[0m                                 Traceback (most recent call last)",
      "Input \u001b[1;32mIn [4]\u001b[0m, in \u001b[0;36m<cell line: 1>\u001b[1;34m()\u001b[0m\n\u001b[1;32m----> 1\u001b[0m mytuple[\u001b[38;5;241m2\u001b[39m] \u001b[38;5;241m=\u001b[39m \u001b[38;5;241m3\u001b[39m\n",
      "\u001b[1;31mTypeError\u001b[0m: 'tuple' object does not support item assignment"
     ]
    }
   ],
   "source": [
    "mytuple[2] = 3"
   ]
  },
  {
   "cell_type": "markdown",
   "id": "99480a76",
   "metadata": {
    "slideshow": {
     "slide_type": "fragment"
    }
   },
   "source": [
    "<div class=\"alert alert-block alert-warning\">If you want to add, remove, update items in the Tuple, you should first convert it into a List </div>"
   ]
  },
  {
   "cell_type": "code",
   "execution_count": 5,
   "id": "d18d8836",
   "metadata": {
    "slideshow": {
     "slide_type": "slide"
    }
   },
   "outputs": [
    {
     "name": "stdout",
     "output_type": "stream",
     "text": [
      "[1, 2, 'three', 4.5, 1]\n",
      "[1, 2, 3, 4.5, 1]\n",
      "[1, 2, 3, 4.5]\n",
      "[1, 2, 3, 4.5, 2]\n",
      "[1, 3, 4.5, 2]\n",
      "(1, 3, 4.5, 2)\n"
     ]
    }
   ],
   "source": [
    "tup_list = [] # Define an empty List\n",
    "\n",
    "tup_list = list(mytuple) # Reccall type conversion\n",
    "\n",
    "print(tup_list)\n",
    "\n",
    "tup_list[2] = 3 # You can now change objects/items\n",
    "\n",
    "print(tup_list)\n",
    "\n",
    "tup_list.pop() # poping the last item\n",
    "\n",
    "print(tup_list)\n",
    "\n",
    "tup_list.append(2)\n",
    "\n",
    "print(tup_list) # adding 2 to the end of the list\n",
    "\n",
    "tup_list.remove(2) # Removes the first instance of 2\n",
    "\n",
    "print(tup_list)\n",
    "\n",
    "mytuple = tuple(tup_list)\n",
    "\n",
    "print(mytuple) ## Back to Tuple after various operations\n"
   ]
  },
  {
   "cell_type": "markdown",
   "id": "c15a2cb7",
   "metadata": {
    "slideshow": {
     "slide_type": "slide"
    }
   },
   "source": [
    "## Tuples have only two methods\n",
    "\n",
    "* `count()` Counts and return the number of an element in a tuple\n",
    "* `index()` returns index of the first instance of an element"
   ]
  },
  {
   "cell_type": "code",
   "execution_count": 9,
   "id": "d44cf7ab",
   "metadata": {
    "slideshow": {
     "slide_type": "fragment"
    }
   },
   "outputs": [
    {
     "name": "stdout",
     "output_type": "stream",
     "text": [
      "There are 2 c's in the tuple\n",
      "There are 3 1's in the tuple\n",
      "There of 1 in the tuple is 0\n",
      "There of c in the tuple is 3\n"
     ]
    }
   ],
   "source": [
    "tup = (1, 1, 'b', 'c', 'c', 1)\n",
    "\n",
    "# count()\n",
    "\n",
    "print(\"There are {} c's in the tuple\".format(tup.count(\"c\")))\n",
    "\n",
    "print(\"There are {} 1's in the tuple\".format(tup.count(1)))\n",
    "\n",
    "# index()\n",
    "\n",
    "print(\"The index of 1 in the tuple is {}\".format(tup.index(1)))\n",
    "\n",
    "print(\"The index of c in the tuple is {}\".format(tup.index('c')))\n"
   ]
  },
  {
   "cell_type": "markdown",
   "id": "ad5665dd",
   "metadata": {
    "slideshow": {
     "slide_type": "slide"
    }
   },
   "source": [
    "# <center>Boolean</center>\n",
    "***\n",
    "* Boolean are operators that returns either **True** or **False** (With capital T and F)when certain logic is confirmed or otherwise\n",
    "* Extremely important as a program flows following a certain logic\n"
   ]
  },
  {
   "cell_type": "code",
   "execution_count": 10,
   "id": "e648ed95",
   "metadata": {
    "slideshow": {
     "slide_type": "slide"
    }
   },
   "outputs": [
    {
     "data": {
      "text/plain": [
       "True"
      ]
     },
     "execution_count": 10,
     "metadata": {},
     "output_type": "execute_result"
    }
   ],
   "source": [
    "True"
   ]
  },
  {
   "cell_type": "code",
   "execution_count": 11,
   "id": "6afa5494",
   "metadata": {
    "slideshow": {
     "slide_type": "fragment"
    }
   },
   "outputs": [
    {
     "data": {
      "text/plain": [
       "bool"
      ]
     },
     "execution_count": 11,
     "metadata": {},
     "output_type": "execute_result"
    }
   ],
   "source": [
    "type(True)"
   ]
  },
  {
   "cell_type": "code",
   "execution_count": 12,
   "id": "d7fa838b",
   "metadata": {
    "slideshow": {
     "slide_type": "fragment"
    }
   },
   "outputs": [
    {
     "data": {
      "text/plain": [
       "bool"
      ]
     },
     "execution_count": 12,
     "metadata": {},
     "output_type": "execute_result"
    }
   ],
   "source": [
    "fan_on = False\n",
    "type(fan_on)"
   ]
  },
  {
   "cell_type": "code",
   "execution_count": 13,
   "id": "a6bd8d69",
   "metadata": {
    "slideshow": {
     "slide_type": "fragment"
    }
   },
   "outputs": [
    {
     "data": {
      "text/plain": [
       "True"
      ]
     },
     "execution_count": 13,
     "metadata": {},
     "output_type": "execute_result"
    }
   ],
   "source": [
    "4 > 3"
   ]
  },
  {
   "cell_type": "code",
   "execution_count": 14,
   "id": "a9a2f2d8",
   "metadata": {
    "slideshow": {
     "slide_type": "fragment"
    }
   },
   "outputs": [
    {
     "data": {
      "text/plain": [
       "False"
      ]
     },
     "execution_count": 14,
     "metadata": {},
     "output_type": "execute_result"
    }
   ],
   "source": [
    "(4>3) and (3 == 2) # in \"and\" logic both conditions MUST be true"
   ]
  },
  {
   "cell_type": "code",
   "execution_count": 16,
   "id": "eaefb10a",
   "metadata": {
    "slideshow": {
     "slide_type": "fragment"
    }
   },
   "outputs": [
    {
     "data": {
      "text/plain": [
       "True"
      ]
     },
     "execution_count": 16,
     "metadata": {},
     "output_type": "execute_result"
    }
   ],
   "source": [
    "(4>3) or (3 == 2) # in \"or\" logic, if either of the condition is True, result will be true"
   ]
  },
  {
   "cell_type": "markdown",
   "id": "b560d372",
   "metadata": {
    "slideshow": {
     "slide_type": "slide"
    }
   },
   "source": [
    "### We will explore Booleans further in Conditional Statements and in Loops"
   ]
  }
 ],
 "metadata": {
  "celltoolbar": "Slideshow",
  "kernelspec": {
   "display_name": "Python 3 (ipykernel)",
   "language": "python",
   "name": "python3"
  },
  "language_info": {
   "codemirror_mode": {
    "name": "ipython",
    "version": 3
   },
   "file_extension": ".py",
   "mimetype": "text/x-python",
   "name": "python",
   "nbconvert_exporter": "python",
   "pygments_lexer": "ipython3",
   "version": "3.9.12"
  }
 },
 "nbformat": 4,
 "nbformat_minor": 5
}
