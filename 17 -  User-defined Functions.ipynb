{
 "cells": [
  {
   "cell_type": "markdown",
   "id": "7ed81351",
   "metadata": {
    "slideshow": {
     "slide_type": "slide"
    }
   },
   "source": [
    "# User-defined Functions"
   ]
  },
  {
   "cell_type": "markdown",
   "id": "98aa8878",
   "metadata": {
    "slideshow": {
     "slide_type": "slide"
    }
   },
   "source": [
    "### How to define a user-define function"
   ]
  },
  {
   "cell_type": "markdown",
   "id": "4711d8e7",
   "metadata": {
    "slideshow": {
     "slide_type": "fragment"
    }
   },
   "source": [
    "`def` `**function_name**():`\n",
    "\n",
    "\n",
    "\n",
    "    '''\n",
    "    This is a multiline comment to describe the function - A good practice\n",
    "    '''\n",
    "    # Function body or code\n",
    "    statement_1\n",
    "    ..\n",
    "    ..\n",
    "    statement_n\n",
    "    \n",
    "### <font color = 'red'><b>Mind the indentation</b></font>"
   ]
  },
  {
   "cell_type": "markdown",
   "id": "c53fd32c",
   "metadata": {
    "slideshow": {
     "slide_type": "slide"
    }
   },
   "source": [
    "* **def** is a predefine keyword that must be stated when defining a function\n",
    "* **function_name** is a user-define name given to a function\n",
    "* *function_name* is called whenever we want to invoke it\n",
    "* The parenthesis **( )** is used whether or not parameters/arguments is passed during a function call \n",
    "\n",
    "> <font color='blue'><b>A function must always be called before a call is made to it</b></font>\n",
    "\n",
    "#### Example:"
   ]
  },
  {
   "cell_type": "code",
   "execution_count": 1,
   "id": "ff4383da",
   "metadata": {
    "slideshow": {
     "slide_type": "fragment"
    }
   },
   "outputs": [
    {
     "name": "stdout",
     "output_type": "stream",
     "text": [
      "Hello there!!\n"
     ]
    }
   ],
   "source": [
    "# Function Definition\n",
    "def message():\n",
    "    print(\"Hello there!!\")\n",
    "\n",
    "# Function call\n",
    "message()\n"
   ]
  },
  {
   "cell_type": "markdown",
   "id": "da898a08",
   "metadata": {
    "slideshow": {
     "slide_type": "slide"
    }
   },
   "source": [
    "### Passing arguments/parameters"
   ]
  },
  {
   "cell_type": "code",
   "execution_count": 1,
   "id": "d20245dc",
   "metadata": {
    "slideshow": {
     "slide_type": "fragment"
    }
   },
   "outputs": [
    {
     "name": "stdout",
     "output_type": "stream",
     "text": [
      "Hello Alice\n"
     ]
    }
   ],
   "source": [
    "# Function Definition\n",
    "def message(name):  \n",
    "    # the variable \"name\" idicate that the function is expecting a parameter \n",
    "    print(\"Hello\", name)\n",
    "\n",
    "std_name = \"Alice\" # variable to be passed\n",
    "# Function call\n",
    "\n",
    "message(std_name) # variable/object passed\n"
   ]
  },
  {
   "cell_type": "markdown",
   "id": "0eceda11",
   "metadata": {
    "slideshow": {
     "slide_type": "fragment"
    }
   },
   "source": [
    "<div class=\"alert alert-block alert-info\"> The passed/sent and expected/recieved parameters can have different labels</div>"
   ]
  },
  {
   "cell_type": "code",
   "execution_count": 3,
   "id": "190ea441",
   "metadata": {
    "slideshow": {
     "slide_type": "slide"
    }
   },
   "outputs": [
    {
     "name": "stdout",
     "output_type": "stream",
     "text": [
      "What is your name? John\n",
      " \n",
      "Greetings John !!\n",
      "\n",
      "Languages availabe are:  ['Java', 'Python', 'HTML']\n",
      "Respective versions are:  [2.0, 3.1, 5.0]\n",
      "Language-version pairs are:  [('Java', 2.0), ('Python', 3.1), ('HTML', 5.0)]\n"
     ]
    }
   ],
   "source": [
    "# ANOTHER Example \n",
    "# Function Definition\n",
    "def list_languages(lang_versions, name):\n",
    "    print(f\" \\nGreetings {name} !!\\n\")\n",
    "    print(\"Languages availabe are: \", list(lang_versions.keys()))\n",
    "    print(\"Respective versions are: \", list(lang_versions.values()))\n",
    "    print(\"Language-version pairs are: \", list(lang_versions.items()))\n",
    "    \n",
    "\n",
    "name = input(\"What is your name? \")\n",
    "lang_versions = {'Java':2.0, 'Python':3.10, 'HTML':5.0}\n",
    "\n",
    "# Function called with dictionary ojected is passed as parameter\n",
    "list_languages(lang_versions, name) \n"
   ]
  },
  {
   "cell_type": "markdown",
   "id": "12817aab",
   "metadata": {
    "slideshow": {
     "slide_type": "slide"
    }
   },
   "source": [
    "#### Function with Default value of parameters"
   ]
  },
  {
   "cell_type": "code",
   "execution_count": 9,
   "id": "723b2b62",
   "metadata": {
    "slideshow": {
     "slide_type": "fragment"
    }
   },
   "outputs": [
    {
     "name": "stdout",
     "output_type": "stream",
     "text": [
      "Hello Learner\n",
      "Hello Alice\n"
     ]
    }
   ],
   "source": [
    "# Function Definition\n",
    "def message(name = \"Learner\"):  \n",
    "    \n",
    "    # If \"name\" is not specified in the function call, the above default value \"Learner\" will be used\n",
    "    # if name is passed in the function call, its value overrides the default one\n",
    "    \n",
    "    print(\"Hello\", name)\n",
    "\n",
    "# variable to be passed\n",
    "std_name = \"Alice\" \n",
    "\n",
    "# no variable passed, so default will be used\n",
    "message() \n",
    "\n",
    "# As variable with value is passed, it will override the default one\n",
    "message(std_name) "
   ]
  },
  {
   "cell_type": "code",
   "execution_count": 5,
   "id": "3eb5f4cf",
   "metadata": {
    "scrolled": true,
    "slideshow": {
     "slide_type": "slide"
    }
   },
   "outputs": [
    {
     "name": "stdout",
     "output_type": "stream",
     "text": [
      "Sum of the two numbers is:  15.5\n",
      "Sum of the two numbers is:  20\n"
     ]
    }
   ],
   "source": [
    "def add_numbers(a = 5.5, b = 10):\n",
    "    print(\"Sum of the two numbers is: \", (a+b))\n",
    "\n",
    "# call with no params will use the default\n",
    "add_numbers()\n",
    "\n",
    "# call with one param will be used by the first param in the function definition\n",
    "add_numbers(10)"
   ]
  },
  {
   "cell_type": "markdown",
   "id": "c01f4ce6",
   "metadata": {
    "slideshow": {
     "slide_type": "slide"
    }
   },
   "source": [
    "### Function call with explicit variables values"
   ]
  },
  {
   "cell_type": "code",
   "execution_count": 6,
   "id": "81e2b8e4",
   "metadata": {
    "slideshow": {
     "slide_type": "fragment"
    }
   },
   "outputs": [
    {
     "name": "stdout",
     "output_type": "stream",
     "text": [
      "Greetings, Alice !!\n"
     ]
    }
   ],
   "source": [
    "def greet(name, message):\n",
    "    print(message + ', ' + name, '!!')\n",
    "    \n",
    "#Function call\n",
    "greet(message = \"Greetings\", name = \"Alice\")\n",
    "# position of the params dont matter when explict variables are passed"
   ]
  },
  {
   "cell_type": "markdown",
   "id": "4a8e5c67",
   "metadata": {
    "slideshow": {
     "slide_type": "slide"
    }
   },
   "source": [
    "### Returning values from a function"
   ]
  },
  {
   "cell_type": "code",
   "execution_count": 7,
   "id": "c40b1efd",
   "metadata": {
    "slideshow": {
     "slide_type": "fragment"
    }
   },
   "outputs": [
    {
     "name": "stdout",
     "output_type": "stream",
     "text": [
      "Greetings, Alice !!\n",
      "None\n"
     ]
    }
   ],
   "source": [
    "# No Return Example for background understanding\n",
    "\n",
    "def greet(name, message):\n",
    "    print(message + ', ' + name, '!!')\n",
    "    \n",
    "#Function call\n",
    "x = greet(message = \"Greetings\", name = \"Alice\")\n",
    "print(x) "
   ]
  },
  {
   "cell_type": "markdown",
   "id": "f03b7efa",
   "metadata": {
    "slideshow": {
     "slide_type": "fragment"
    }
   },
   "source": [
    "> The above function doesn't return a value/object. It simply prints a message. Otherwise, it could have been printed by `print(x)`"
   ]
  },
  {
   "cell_type": "code",
   "execution_count": 15,
   "id": "cc642359",
   "metadata": {
    "slideshow": {
     "slide_type": "slide"
    }
   },
   "outputs": [
    {
     "name": "stdout",
     "output_type": "stream",
     "text": [
      "Greetings Alice\n"
     ]
    }
   ],
   "source": [
    "def greet(name, message):\n",
    "    x = message + \" \"+ name\n",
    "    return x       # Returning a string\n",
    "\n",
    "#Function call\n",
    "x = greet(message = \"Greetings\", name = \"Alice\")\n",
    "print(x)\n"
   ]
  },
  {
   "cell_type": "markdown",
   "id": "bf3279c7",
   "metadata": {
    "slideshow": {
     "slide_type": "slide"
    }
   },
   "source": [
    "## Returning many objects"
   ]
  },
  {
   "cell_type": "code",
   "execution_count": 1,
   "id": "f0a94e3b",
   "metadata": {
    "slideshow": {
     "slide_type": "fragment"
    }
   },
   "outputs": [
    {
     "name": "stdout",
     "output_type": "stream",
     "text": [
      "Results are \n",
      " \n",
      "Total Score: 71 \n",
      "Average: 17.75 \n",
      "Updated List is: [24, 100, 12, 16, 19]\n"
     ]
    }
   ],
   "source": [
    "\n",
    "import statistics\n",
    "\n",
    "def add(mylist):\n",
    "    #returning many \n",
    "    a = \"Results are \\n\"\n",
    "    b = statistics.mean(mylist)\n",
    "    c = sum(mylist)\n",
    "    mylist.insert(1, 100)\n",
    "    \n",
    "    return a, b, c, mylist  # Returning many objects\n",
    "\n",
    "\n",
    "\n",
    "score = [24, 12, 16, 19]\n",
    "\n",
    "result, average, total, score = add(score)  #Function call\n",
    "\n",
    "print(f\"{result} \\nTotal Score: {total} \\nAverage: {average} \\nUpdated List is: {score}\")"
   ]
  },
  {
   "cell_type": "markdown",
   "id": "a6d24e2e",
   "metadata": {
    "slideshow": {
     "slide_type": "slide"
    }
   },
   "source": [
    "## Homework\n",
    "* Function for first 10 fibonaci numbers. \n",
    "* Function to check if a user provided input is odd or even\n",
    "* Ask the user to provide scores in 5 subjects\n",
    "    * Define a function to return the:\n",
    "        * `sum`, `mean`, `mode`, and `median` of the scores\n",
    "        *  Check if the score is above 90, display grade \"A\"\n",
    "        *  Check if the score is above 70, display grade \"B\"\n",
    "        *  Check if the score is above 60, display grade \"C\"\n",
    "        *  Check if the score is 50 or below, display grade \"on Probation\"\n"
   ]
  }
 ],
 "metadata": {
  "celltoolbar": "Slideshow",
  "kernelspec": {
   "display_name": "Python 3 (ipykernel)",
   "language": "python",
   "name": "python3"
  },
  "language_info": {
   "codemirror_mode": {
    "name": "ipython",
    "version": 3
   },
   "file_extension": ".py",
   "mimetype": "text/x-python",
   "name": "python",
   "nbconvert_exporter": "python",
   "pygments_lexer": "ipython3",
   "version": "3.9.12"
  }
 },
 "nbformat": 4,
 "nbformat_minor": 5
}
