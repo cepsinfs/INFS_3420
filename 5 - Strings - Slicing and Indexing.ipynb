{
 "cells": [
  {
   "cell_type": "markdown",
   "id": "693448c4",
   "metadata": {
    "slideshow": {
     "slide_type": "slide"
    }
   },
   "source": [
    "# Indexing\n",
    "* Referring to each element in a string/file/database. Square brackets **[ number ]** are used to refer to an index. \n",
    "* The *number* refers to the *nth* number of element in a string, e.g., **[3] or [11]**\n",
    "* Like most languages, indexing in Python starts with **0 (zero)**\n",
    "* Indexing allows you to return a single element/character of a string"
   ]
  },
  {
   "cell_type": "code",
   "execution_count": 1,
   "id": "efba0c5f",
   "metadata": {
    "slideshow": {
     "slide_type": "slide"
    }
   },
   "outputs": [],
   "source": [
    "course = 'Python Development'"
   ]
  },
  {
   "cell_type": "code",
   "execution_count": 2,
   "id": "62d46f98",
   "metadata": {
    "slideshow": {
     "slide_type": "fragment"
    }
   },
   "outputs": [
    {
     "data": {
      "text/plain": [
       "18"
      ]
     },
     "execution_count": 2,
     "metadata": {},
     "output_type": "execute_result"
    }
   ],
   "source": [
    "len(course)"
   ]
  },
  {
   "cell_type": "code",
   "execution_count": 3,
   "id": "61b88a43",
   "metadata": {
    "slideshow": {
     "slide_type": "slide"
    }
   },
   "outputs": [
    {
     "data": {
      "text/plain": [
       "'P'"
      ]
     },
     "execution_count": 3,
     "metadata": {},
     "output_type": "execute_result"
    }
   ],
   "source": [
    "course[0] # or print(course[0])"
   ]
  },
  {
   "cell_type": "code",
   "execution_count": 4,
   "id": "37abb836",
   "metadata": {
    "slideshow": {
     "slide_type": "fragment"
    }
   },
   "outputs": [
    {
     "data": {
      "text/plain": [
       "'n'"
      ]
     },
     "execution_count": 4,
     "metadata": {},
     "output_type": "execute_result"
    }
   ],
   "source": [
    "course[5] "
   ]
  },
  {
   "cell_type": "code",
   "execution_count": 5,
   "id": "d1cd5ccd",
   "metadata": {
    "slideshow": {
     "slide_type": "fragment"
    }
   },
   "outputs": [
    {
     "data": {
      "text/plain": [
       "'e'"
      ]
     },
     "execution_count": 5,
     "metadata": {},
     "output_type": "execute_result"
    }
   ],
   "source": [
    "course[10]"
   ]
  },
  {
   "cell_type": "markdown",
   "id": "e588ef0f",
   "metadata": {
    "slideshow": {
     "slide_type": "slide"
    }
   },
   "source": [
    "# Reverse Indexing"
   ]
  },
  {
   "cell_type": "code",
   "execution_count": 6,
   "id": "fb03c28f",
   "metadata": {
    "slideshow": {
     "slide_type": "fragment"
    }
   },
   "outputs": [
    {
     "data": {
      "text/plain": [
       "'t'"
      ]
     },
     "execution_count": 6,
     "metadata": {},
     "output_type": "execute_result"
    }
   ],
   "source": [
    "course[-1] # Going backwards or Reverse Indexing\n",
    "\n",
    "# Important Tip: Doesnt matter how long the string is [-1] will always give you the last element/character of the string"
   ]
  },
  {
   "cell_type": "code",
   "execution_count": 7,
   "id": "3ca37cba",
   "metadata": {
    "slideshow": {
     "slide_type": "fragment"
    }
   },
   "outputs": [
    {
     "data": {
      "text/plain": [
       "'n'"
      ]
     },
     "execution_count": 7,
     "metadata": {},
     "output_type": "execute_result"
    }
   ],
   "source": [
    "course[-2]"
   ]
  },
  {
   "cell_type": "markdown",
   "id": "88fe4a63",
   "metadata": {
    "slideshow": {
     "slide_type": "slide"
    }
   },
   "source": [
    "# Slicing Strings \n",
    "### <div class =\"alert alert-block alert-warning\"> A very very very important concept in strings </div>\n",
    "\n",
    "* Slicing allows you to **catch a subsection of multiple characters**, i.e., a “slice” of the string.\n",
    "* This has the following syntax: `string_variable_name[start : stop : step]`\n",
    "* Each of the start, stop and step refers to an index number in the string\n",
    "* **start** is a numerical index for the slice start\n",
    "* **stop** is the index you will go up to (but not include)\n",
    "* **step** is the size of the “jump or skip” you take. \n",
    "* When step is not specified, *it means that the DEFAULT step will be used, which is \"1\"*\n"
   ]
  },
  {
   "cell_type": "markdown",
   "id": "9644f768",
   "metadata": {
    "slideshow": {
     "slide_type": "slide"
    }
   },
   "source": [
    "# Example String\n",
    "**course = \"Python Development\"**  (from the above examples)"
   ]
  },
  {
   "cell_type": "code",
   "execution_count": 8,
   "id": "e9f47a8c",
   "metadata": {
    "slideshow": {
     "slide_type": "fragment"
    }
   },
   "outputs": [
    {
     "data": {
      "text/plain": [
       "'Python'"
      ]
     },
     "execution_count": 8,
     "metadata": {},
     "output_type": "execute_result"
    }
   ],
   "source": [
    "# Grabing the sub-string \"Python\"\n",
    "\n",
    "course[:6] # starting from 0 till 6 (the space character). You can also code it as course[0:6]"
   ]
  },
  {
   "cell_type": "code",
   "execution_count": 9,
   "id": "cd4d76c7",
   "metadata": {
    "slideshow": {
     "slide_type": "fragment"
    }
   },
   "outputs": [
    {
     "data": {
      "text/plain": [
       "'Python'"
      ]
     },
     "execution_count": 9,
     "metadata": {},
     "output_type": "execute_result"
    }
   ],
   "source": [
    "course[0:6]"
   ]
  },
  {
   "cell_type": "code",
   "execution_count": 10,
   "id": "3c92326f",
   "metadata": {
    "slideshow": {
     "slide_type": "slide"
    }
   },
   "outputs": [
    {
     "data": {
      "text/plain": [
       "'Python Development'"
      ]
     },
     "execution_count": 10,
     "metadata": {},
     "output_type": "execute_result"
    }
   ],
   "source": [
    "# retrieving the entire string\n",
    "\n",
    "course[:] # grab everything from start to the end"
   ]
  },
  {
   "cell_type": "code",
   "execution_count": 11,
   "id": "53f07393",
   "metadata": {
    "slideshow": {
     "slide_type": "fragment"
    }
   },
   "outputs": [
    {
     "data": {
      "text/plain": [
       "'Python Development'"
      ]
     },
     "execution_count": 11,
     "metadata": {},
     "output_type": "execute_result"
    }
   ],
   "source": [
    "course[:len(course)] # will work the same as above. The above is more practical and more efficient"
   ]
  },
  {
   "cell_type": "code",
   "execution_count": 12,
   "id": "9f1d2ad4",
   "metadata": {
    "slideshow": {
     "slide_type": "slide"
    }
   },
   "outputs": [
    {
     "data": {
      "text/plain": [
       "'Pyt'"
      ]
     },
     "execution_count": 12,
     "metadata": {},
     "output_type": "execute_result"
    }
   ],
   "source": [
    "# Getting the first three characters\n",
    "course[:3]"
   ]
  },
  {
   "cell_type": "code",
   "execution_count": 13,
   "id": "bd6d3b5a",
   "metadata": {
    "slideshow": {
     "slide_type": "slide"
    }
   },
   "outputs": [
    {
     "data": {
      "text/plain": [
       "'Development'"
      ]
     },
     "execution_count": 13,
     "metadata": {},
     "output_type": "execute_result"
    }
   ],
   "source": [
    "# Getting the sub-string \"Development\"\n",
    "\n",
    "course[7:]"
   ]
  },
  {
   "cell_type": "code",
   "execution_count": 14,
   "id": "1a611a88",
   "metadata": {
    "slideshow": {
     "slide_type": "slide"
    }
   },
   "outputs": [
    {
     "data": {
      "text/plain": [
       "'Dev'"
      ]
     },
     "execution_count": 14,
     "metadata": {},
     "output_type": "execute_result"
    }
   ],
   "source": [
    "# Getting the sub-string \"Dev\"\n",
    "\n",
    "course[7:10] # The 10th character will NOT be fetched. Remeber the syntax"
   ]
  },
  {
   "cell_type": "markdown",
   "id": "15fae055",
   "metadata": {
    "slideshow": {
     "slide_type": "slide"
    }
   },
   "source": [
    "### Stepping/Skipping characters - Using the STEP option"
   ]
  },
  {
   "cell_type": "code",
   "execution_count": 15,
   "id": "2c9005ff",
   "metadata": {
    "slideshow": {
     "slide_type": "fragment"
    }
   },
   "outputs": [
    {
     "data": {
      "text/plain": [
       "'Pto eeomn'"
      ]
     },
     "execution_count": 15,
     "metadata": {},
     "output_type": "execute_result"
    }
   ],
   "source": [
    "# Starting from the first character \"P\", grabbing every SECOND character until the end of the string\n",
    "\n",
    "course[::2] "
   ]
  },
  {
   "cell_type": "code",
   "execution_count": 16,
   "id": "9defb746",
   "metadata": {},
   "outputs": [
    {
     "data": {
      "text/plain": [
       "'Depn'"
      ]
     },
     "execution_count": 16,
     "metadata": {},
     "output_type": "execute_result"
    }
   ],
   "source": [
    "# Starting from the 7th character \"D\", grabbing every 3rd character until the end of the string\n",
    "\n",
    "course[7::3] "
   ]
  },
  {
   "cell_type": "code",
   "execution_count": 17,
   "id": "0418c285",
   "metadata": {
    "slideshow": {
     "slide_type": "fragment"
    }
   },
   "outputs": [
    {
     "data": {
      "text/plain": [
       "'Po'"
      ]
     },
     "execution_count": 17,
     "metadata": {},
     "output_type": "execute_result"
    }
   ],
   "source": [
    "# Starting from the first character \"P\", grabbing every 4th character until the 7th character \"D\" in the string\n",
    "\n",
    "course[:7:4] "
   ]
  },
  {
   "cell_type": "code",
   "execution_count": 18,
   "id": "6cb71c48",
   "metadata": {
    "slideshow": {
     "slide_type": "slide"
    }
   },
   "outputs": [
    {
     "data": {
      "text/plain": [
       "'noh'"
      ]
     },
     "execution_count": 18,
     "metadata": {},
     "output_type": "execute_result"
    }
   ],
   "source": [
    "# Starting from the 5th Character \"n\", grabbing the first 3 characters BUT in reverse order\n",
    "\n",
    "course[5:2:-1]"
   ]
  },
  {
   "cell_type": "markdown",
   "id": "ba8c0bc1",
   "metadata": {
    "slideshow": {
     "slide_type": "slide"
    }
   },
   "source": [
    "Given the String \n",
    "\n",
    "**course = \"Python Language is awesom\"**\n",
    "\n",
    "Return/Code the following tasks:\n",
    "\n",
    "1. find the length of the string\n",
    "2. Print out the first character, separately\n",
    "3. print out the last character, separately\n",
    "4. Separately, print out each words in the string\n",
    "5. Starting from \"L\", Print out each second character until the end of the string\n",
    "6. Starting from \"i\", print out each third character until \"n\" in a reverse order\n",
    "7. Separately, print out each word in the string in a REVERSE order\n",
    "8. Print the entire string in the REVERSE order\n",
    "9. Print the entire string using indexing and the len()"
   ]
  },
  {
   "cell_type": "code",
   "execution_count": null,
   "id": "19a9f85a",
   "metadata": {},
   "outputs": [],
   "source": []
  }
 ],
 "metadata": {
  "celltoolbar": "Slideshow",
  "kernelspec": {
   "display_name": "Python 3 (ipykernel)",
   "language": "python",
   "name": "python3"
  },
  "language_info": {
   "codemirror_mode": {
    "name": "ipython",
    "version": 3
   },
   "file_extension": ".py",
   "mimetype": "text/x-python",
   "name": "python",
   "nbconvert_exporter": "python",
   "pygments_lexer": "ipython3",
   "version": "3.9.12"
  }
 },
 "nbformat": 4,
 "nbformat_minor": 5
}
