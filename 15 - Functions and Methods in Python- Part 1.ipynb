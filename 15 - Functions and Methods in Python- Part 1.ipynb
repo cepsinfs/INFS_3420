{
 "cells": [
  {
   "cell_type": "markdown",
   "id": "528f7884",
   "metadata": {
    "slideshow": {
     "slide_type": "slide"
    }
   },
   "source": [
    "# Functions and Methods in Python - Part 1"
   ]
  },
  {
   "cell_type": "markdown",
   "id": "22c6d05b",
   "metadata": {
    "slideshow": {
     "slide_type": "slide"
    }
   },
   "source": [
    "* Methods and functions are block of codes for specific operations\n",
    "* They are called or invoked whenever we want to perform the respective operation\n",
    "    * For example: Calling a sum function to add two or more numbers\n",
    "* Depending on their definition, they may or may not return a result\n",
    "* They can be called or identified by its name followed by a set of ecnlosing parenthesis \"()\"\n",
    "    * For Example:<br> \n",
    "### <font color=\"blue\"><b>```sum```</b>```(a, b)```</font> <br>\n",
    "* The objects, **a** and **b** in the above example, inside the brackets are called the **arguments**\n",
    "***"
   ]
  },
  {
   "cell_type": "markdown",
   "id": "a16349d4",
   "metadata": {
    "slideshow": {
     "slide_type": "slide"
    }
   },
   "source": [
    "* We have exercised a number of **methods** this far\n",
    "    * ```split( ), replace( ), append( ), replace( ), upper( )``` etc.\n",
    "    * The ones that we have used this far were mostly **methods**\n",
    "\n",
    "* **Methods** are called with their names (and arguments, if any). **However, they are always associated with some object** (class, string, list , etc.) \n",
    "    * A method is called ‘on’ an object. We cannot invoke it just by its name\n",
    "* **Functions** are called just by calling their name (with arguments if any). **They are not associated with any object** (class, string, list , etc.) \n",
    "***"
   ]
  },
  {
   "cell_type": "markdown",
   "id": "4158de26",
   "metadata": {
    "slideshow": {
     "slide_type": "slide"
    }
   },
   "source": [
    "## Built-in and User-defined Methods and Functions\n",
    "\n",
    "* There are numerous built-in methods and functions that are pre-defined for the user. They just need to be called accordingly\n",
    "* User-defined methods or functions are the ones that a User/Programmer defines himself"
   ]
  },
  {
   "cell_type": "markdown",
   "id": "7113ab08",
   "metadata": {
    "slideshow": {
     "slide_type": "slide"
    }
   },
   "source": [
    "## Understanding built-in methods"
   ]
  },
  {
   "cell_type": "code",
   "execution_count": 1,
   "id": "cccb523f",
   "metadata": {
    "slideshow": {
     "slide_type": "slide"
    }
   },
   "outputs": [
    {
     "name": "stdout",
     "output_type": "stream",
     "text": [
      "[34, 56, 76, 21, 99]\n",
      "[34, 56, 76, 21]\n"
     ]
    }
   ],
   "source": [
    "scores = [34, 56, 76, 21] # Example list\n",
    "\n",
    "#Calling built-in methods\n",
    "\n",
    "# Appending an item\n",
    "scores.append(99) \n",
    "# append is a method called on the object \"scores\"\n",
    "print(scores)\n",
    "\n",
    "# removing the last item\n",
    "scores.pop() # Another method called on an object\n",
    "print(scores)"
   ]
  },
  {
   "cell_type": "markdown",
   "id": "c315b663",
   "metadata": {
    "slideshow": {
     "slide_type": "slide"
    }
   },
   "source": [
    "***\n",
    "In Jupyter, if you dont know the methods associated with an object, do the following:\n",
    "* Press the **tab** key after the object and \".\" to list all the methods associated with the object\n",
    "    * Select the method you want to apply\n",
    "    \n",
    "If you dont know the details of a particular method:\n",
    "* Press **shift + tab** keys to see the details of the method, OR\n",
    "* Type ```help(object.method)``` to print the details\n",
    "\n",
    "#### For Example:"
   ]
  },
  {
   "cell_type": "code",
   "execution_count": 2,
   "id": "29e8fd1e",
   "metadata": {
    "slideshow": {
     "slide_type": "slide"
    }
   },
   "outputs": [
    {
     "name": "stdout",
     "output_type": "stream",
     "text": [
      "Help on built-in function insert:\n",
      "\n",
      "insert(index, object, /) method of builtins.list instance\n",
      "    Insert object before index.\n",
      "\n"
     ]
    }
   ],
   "source": [
    "help(scores.insert)"
   ]
  },
  {
   "cell_type": "code",
   "execution_count": 3,
   "id": "6954e3be",
   "metadata": {
    "slideshow": {
     "slide_type": "slide"
    }
   },
   "outputs": [
    {
     "name": "stdout",
     "output_type": "stream",
     "text": [
      "[34, 56, 76, 21]\n",
      "[34, 100, 56, 76, 21]\n"
     ]
    }
   ],
   "source": [
    "print(scores)\n",
    "scores.insert(1, 100)\n",
    "print(scores)"
   ]
  },
  {
   "cell_type": "markdown",
   "id": "e3c16f17",
   "metadata": {
    "slideshow": {
     "slide_type": "slide"
    }
   },
   "source": [
    "### You can also use methods from another library.\n",
    "You must know the corresponding library and import it, and then use the respective method. If you dont, Google it!!\n",
    "\n",
    "#### Some Examples"
   ]
  },
  {
   "cell_type": "code",
   "execution_count": 6,
   "id": "87aa92a6",
   "metadata": {
    "slideshow": {
     "slide_type": "slide"
    }
   },
   "outputs": [
    {
     "name": "stdout",
     "output_type": "stream",
     "text": [
      "[34, 100, 56, 76, 21]\n",
      "The average is:  57.4\n",
      "The median value is:  56\n",
      "[34, 100, 56, 76, 21, 100]\n",
      "The median value is:  100\n"
     ]
    }
   ],
   "source": [
    "import statistics \n",
    "print(scores)\n",
    "\n",
    "avg = statistics.mean(scores) # Mean/Average of scores\n",
    "print(\"The average is: \", avg)\n",
    "\n",
    "middle = statistics.median(scores) # First sort and then find the middle value of the list in odd numbers of list\n",
    "print(\"The median value is: \", middle)\n",
    "\n",
    "scores.append(100)\n",
    "print(scores)\n",
    "\n",
    "most_occur = statistics.mode(scores) # finds the most occuring value in the list\n",
    "print(\"The median value is: \", most_occur)"
   ]
  },
  {
   "cell_type": "code",
   "execution_count": 10,
   "id": "300717ad",
   "metadata": {
    "slideshow": {
     "slide_type": "slide"
    }
   },
   "outputs": [
    {
     "name": "stdout",
     "output_type": "stream",
     "text": [
      "The square root of 25 is 5.0\n",
      "25.3 round up is 26 and yound down is 25\n"
     ]
    }
   ],
   "source": [
    "import math\n",
    "\n",
    "# Finding the squre root of an element\n",
    "print(f\"The square root of 25 is {math.sqrt(25)}\")\n",
    "\n",
    "# Rounding up and down a number\n",
    "x = math.ceil(25.3) \n",
    "y = math.floor(25.3)\n",
    "\n",
    "print(f\"25.3 round up is {x} and yound down is {y}\")\n"
   ]
  },
  {
   "cell_type": "markdown",
   "id": "603a42d3",
   "metadata": {
    "slideshow": {
     "slide_type": "slide"
    }
   },
   "source": [
    "# We will look at <font color=\"red\">user-defined</font> Methods later in the course"
   ]
  }
 ],
 "metadata": {
  "celltoolbar": "Slideshow",
  "kernelspec": {
   "display_name": "Python 3 (ipykernel)",
   "language": "python",
   "name": "python3"
  },
  "language_info": {
   "codemirror_mode": {
    "name": "ipython",
    "version": 3
   },
   "file_extension": ".py",
   "mimetype": "text/x-python",
   "name": "python",
   "nbconvert_exporter": "python",
   "pygments_lexer": "ipython3",
   "version": "3.9.12"
  }
 },
 "nbformat": 4,
 "nbformat_minor": 5
}
