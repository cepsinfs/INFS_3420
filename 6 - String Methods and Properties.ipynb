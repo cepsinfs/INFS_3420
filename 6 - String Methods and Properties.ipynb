{
 "cells": [
  {
   "cell_type": "markdown",
   "id": "2c80fd60",
   "metadata": {},
   "source": [
    "## Strings are immutable\n",
    "\n",
    "You cannot reassign a value/character once a string is defined"
   ]
  },
  {
   "cell_type": "code",
   "execution_count": 1,
   "id": "bd5170cb",
   "metadata": {},
   "outputs": [],
   "source": [
    "dept = \"Information Systems\""
   ]
  },
  {
   "cell_type": "code",
   "execution_count": 2,
   "id": "3ad8fc25",
   "metadata": {},
   "outputs": [
    {
     "name": "stdout",
     "output_type": "stream",
     "text": [
      "f\n"
     ]
    },
    {
     "data": {
      "text/plain": [
       "'Information Systems'"
      ]
     },
     "execution_count": 2,
     "metadata": {},
     "output_type": "execute_result"
    }
   ],
   "source": [
    "print(dept[2])\n",
    "dept # Just streaming it"
   ]
  },
  {
   "cell_type": "code",
   "execution_count": 4,
   "id": "feb39f12",
   "metadata": {},
   "outputs": [
    {
     "ename": "TypeError",
     "evalue": "'str' object does not support item assignment",
     "output_type": "error",
     "traceback": [
      "\u001b[1;31m---------------------------------------------------------------------------\u001b[0m",
      "\u001b[1;31mTypeError\u001b[0m                                 Traceback (most recent call last)",
      "Input \u001b[1;32mIn [4]\u001b[0m, in \u001b[0;36m<cell line: 1>\u001b[1;34m()\u001b[0m\n\u001b[1;32m----> 1\u001b[0m dept[\u001b[38;5;241m2\u001b[39m] \u001b[38;5;241m=\u001b[39m \u001b[38;5;124m'\u001b[39m\u001b[38;5;124ms\u001b[39m\u001b[38;5;124m'\u001b[39m\n",
      "\u001b[1;31mTypeError\u001b[0m: 'str' object does not support item assignment"
     ]
    }
   ],
   "source": [
    "dept[2] = 's' \n",
    "# Reassinging. Will give you an error as strings are immutable"
   ]
  },
  {
   "cell_type": "markdown",
   "id": "f18591ec",
   "metadata": {},
   "source": [
    "### You can add another string to an existing ones\n",
    "\n",
    "**String Concatenation**\n",
    "* String Addition using the \"+\" symbol. We have seen this earlier\n",
    "* String Multiplication using the * symbol\n",
    "\n",
    "Lets see some examples:"
   ]
  },
  {
   "cell_type": "code",
   "execution_count": 5,
   "id": "604bea54",
   "metadata": {},
   "outputs": [
    {
     "data": {
      "text/plain": [
       "'Information Systems'"
      ]
     },
     "execution_count": 5,
     "metadata": {},
     "output_type": "execute_result"
    }
   ],
   "source": [
    "dept"
   ]
  },
  {
   "cell_type": "code",
   "execution_count": 6,
   "id": "303a56c5",
   "metadata": {},
   "outputs": [],
   "source": [
    "dept = \"Department of \" + dept"
   ]
  },
  {
   "cell_type": "code",
   "execution_count": 7,
   "id": "3acac25a",
   "metadata": {},
   "outputs": [
    {
     "data": {
      "text/plain": [
       "'Department of Information Systems'"
      ]
     },
     "execution_count": 7,
     "metadata": {},
     "output_type": "execute_result"
    }
   ],
   "source": [
    "dept"
   ]
  },
  {
   "cell_type": "code",
   "execution_count": 8,
   "id": "46f75193",
   "metadata": {},
   "outputs": [
    {
     "ename": "TypeError",
     "evalue": "unsupported operand type(s) for +: 'int' and 'str'",
     "output_type": "error",
     "traceback": [
      "\u001b[1;31m---------------------------------------------------------------------------\u001b[0m",
      "\u001b[1;31mTypeError\u001b[0m                                 Traceback (most recent call last)",
      "Input \u001b[1;32mIn [8]\u001b[0m, in \u001b[0;36m<cell line: 1>\u001b[1;34m()\u001b[0m\n\u001b[1;32m----> 1\u001b[0m \u001b[38;5;241;43m2\u001b[39;49m\u001b[43m \u001b[49m\u001b[38;5;241;43m+\u001b[39;49m\u001b[43m \u001b[49m\u001b[43mdept\u001b[49m\n",
      "\u001b[1;31mTypeError\u001b[0m: unsupported operand type(s) for +: 'int' and 'str'"
     ]
    }
   ],
   "source": [
    "2 + dept # You cannot concatenate a string and an integer"
   ]
  },
  {
   "cell_type": "code",
   "execution_count": 9,
   "id": "594aaef5",
   "metadata": {},
   "outputs": [
    {
     "data": {
      "text/plain": [
       "'23'"
      ]
     },
     "execution_count": 9,
     "metadata": {},
     "output_type": "execute_result"
    }
   ],
   "source": [
    "'2' + '3' \n",
    "# is not a mathematical addition, its string concatenation"
   ]
  },
  {
   "cell_type": "markdown",
   "id": "9b5d8bab",
   "metadata": {},
   "source": [
    "#### String Multiplication\n",
    "Repeating a string n-times\n"
   ]
  },
  {
   "cell_type": "code",
   "execution_count": 10,
   "id": "75fd2669",
   "metadata": {},
   "outputs": [
    {
     "data": {
      "text/plain": [
       "'Department of Information Systems'"
      ]
     },
     "execution_count": 10,
     "metadata": {},
     "output_type": "execute_result"
    }
   ],
   "source": [
    "dept"
   ]
  },
  {
   "cell_type": "code",
   "execution_count": 11,
   "id": "2f504edd",
   "metadata": {},
   "outputs": [
    {
     "data": {
      "text/plain": [
       "'Department of Information SystemsDepartment of Information SystemsDepartment of Information Systems'"
      ]
     },
     "execution_count": 11,
     "metadata": {},
     "output_type": "execute_result"
    }
   ],
   "source": [
    "dept * 3 # Repeats the string three times"
   ]
  },
  {
   "cell_type": "code",
   "execution_count": 12,
   "id": "5ddd7d5a",
   "metadata": {},
   "outputs": [
    {
     "data": {
      "text/plain": [
       "'Department of Information Systems'"
      ]
     },
     "execution_count": 12,
     "metadata": {},
     "output_type": "execute_result"
    }
   ],
   "source": [
    "dept \n",
    "# The above statement does not change the actual string value unless it is redefined"
   ]
  },
  {
   "cell_type": "code",
   "execution_count": 13,
   "id": "76b9c087",
   "metadata": {},
   "outputs": [],
   "source": [
    "dept = 2 * dept # redefining change the actual value"
   ]
  },
  {
   "cell_type": "code",
   "execution_count": 14,
   "id": "48c14ed1",
   "metadata": {},
   "outputs": [
    {
     "data": {
      "text/plain": [
       "'Department of Information SystemsDepartment of Information Systems'"
      ]
     },
     "execution_count": 14,
     "metadata": {},
     "output_type": "execute_result"
    }
   ],
   "source": [
    "dept"
   ]
  },
  {
   "cell_type": "markdown",
   "id": "b2dc9c21",
   "metadata": {},
   "source": [
    "## Some string functions/methods"
   ]
  },
  {
   "cell_type": "code",
   "execution_count": 15,
   "id": "c1dd948c",
   "metadata": {},
   "outputs": [],
   "source": [
    "x = \"Dept of Information Systems\""
   ]
  },
  {
   "cell_type": "code",
   "execution_count": 16,
   "id": "54ba1ce1",
   "metadata": {},
   "outputs": [
    {
     "data": {
      "text/plain": [
       "'Dept of information systems'"
      ]
     },
     "execution_count": 16,
     "metadata": {},
     "output_type": "execute_result"
    }
   ],
   "source": [
    "x.capitalize() # Capatilize the first letter only. "
   ]
  },
  {
   "cell_type": "code",
   "execution_count": 17,
   "id": "68b40254",
   "metadata": {},
   "outputs": [
    {
     "data": {
      "text/plain": [
       "'DEPT OF INFORMATION SYSTEMS'"
      ]
     },
     "execution_count": 17,
     "metadata": {},
     "output_type": "execute_result"
    }
   ],
   "source": [
    "x.upper() # Convert the strings characters to uppercase"
   ]
  },
  {
   "cell_type": "code",
   "execution_count": 18,
   "id": "2a42e101",
   "metadata": {},
   "outputs": [
    {
     "name": "stdout",
     "output_type": "stream",
     "text": [
      "Dept of Information Systems\n"
     ]
    }
   ],
   "source": [
    "print(x) \n",
    "# again new value after method application will only be effective\n",
    "# if you redefine it, e.g. x = x.upper()"
   ]
  },
  {
   "cell_type": "code",
   "execution_count": 19,
   "id": "20406963",
   "metadata": {},
   "outputs": [
    {
     "data": {
      "text/plain": [
       "'Dept of Finance'"
      ]
     },
     "execution_count": 19,
     "metadata": {},
     "output_type": "execute_result"
    }
   ],
   "source": [
    "x.replace(\"Information Systems\", \"Finance\")\n",
    "# takes 2 arguments, the string to be replaced and the new string"
   ]
  },
  {
   "cell_type": "code",
   "execution_count": 20,
   "id": "db09ea9f",
   "metadata": {},
   "outputs": [
    {
     "name": "stdout",
     "output_type": "stream",
     "text": [
      "['Dept', 'of', 'Information', 'Systems']\n"
     ]
    }
   ],
   "source": [
    "y = x.split() # splits the string based on the WHITE SPACES (default)\n",
    "\n",
    "print(y)"
   ]
  },
  {
   "cell_type": "markdown",
   "id": "15aa639e",
   "metadata": {},
   "source": [
    "* You can also split a string based on certain character in the string\n",
    "* Just like in default, white spaces are removed, the splitting character will also be remove when split is performed on a specific character\n",
    "\n",
    "For example:"
   ]
  },
  {
   "cell_type": "code",
   "execution_count": 21,
   "id": "1d01ffbc",
   "metadata": {},
   "outputs": [
    {
     "data": {
      "text/plain": [
       "['D', 'pt of Information Syst', 'ms']"
      ]
     },
     "execution_count": 21,
     "metadata": {},
     "output_type": "execute_result"
    }
   ],
   "source": [
    "x.split('e')"
   ]
  },
  {
   "cell_type": "code",
   "execution_count": null,
   "id": "98611a0f",
   "metadata": {},
   "outputs": [],
   "source": [
    "x.split('f')"
   ]
  },
  {
   "cell_type": "code",
   "execution_count": null,
   "id": "7793d737",
   "metadata": {},
   "outputs": [],
   "source": []
  },
  {
   "cell_type": "code",
   "execution_count": null,
   "id": "ddb7aea9",
   "metadata": {},
   "outputs": [],
   "source": []
  }
 ],
 "metadata": {
  "kernelspec": {
   "display_name": "Python 3 (ipykernel)",
   "language": "python",
   "name": "python3"
  },
  "language_info": {
   "codemirror_mode": {
    "name": "ipython",
    "version": 3
   },
   "file_extension": ".py",
   "mimetype": "text/x-python",
   "name": "python",
   "nbconvert_exporter": "python",
   "pygments_lexer": "ipython3",
   "version": "3.9.12"
  }
 },
 "nbformat": 4,
 "nbformat_minor": 5
}
