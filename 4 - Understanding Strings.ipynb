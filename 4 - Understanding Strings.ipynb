{
 "cells": [
  {
   "cell_type": "markdown",
   "id": "b1002a18",
   "metadata": {
    "slideshow": {
     "slide_type": "slide"
    }
   },
   "source": [
    "# Strings"
   ]
  },
  {
   "cell_type": "markdown",
   "id": "918d66a5",
   "metadata": {
    "slideshow": {
     "slide_type": "slide"
    }
   },
   "source": [
    "Strings are sequences of characters, using the syntax of either single  quotes or double quotes:\n",
    "* 'hello'\n",
    "* \"Hello\"\n",
    "* \" I don't do that \"\n",
    "\n",
    "***\n",
    "\n",
    "* Because strings are **ordered sequences** it means we can using **indexing** and **slicing** to grab sub-sections of the string.\n",
    "* Indexing notation uses [ ] notation after the string (or variable assigned the string).\n",
    "* Indexing allows you to grab a single character from the string...\n"
   ]
  },
  {
   "cell_type": "markdown",
   "id": "f93c51fa",
   "metadata": {
    "slideshow": {
     "slide_type": "slide"
    }
   },
   "source": [
    "\n",
    "* These actions use [ ] square brackets and a number index to indicate positions of what you wish to grab.\n",
    "\n",
    "<pre>\n",
    "    Character :    h     e     l      l    o\n",
    "        Index :    0     1     2      3    4\n",
    " Reverse Index:    0    -4    -3     -2   -1\n",
    "</pre>\n",
    "\n",
    "<div class=\"alert alert-block alert-info\">WHITE Spaces, if any in a string, are COUNTED as Characters</div>"
   ]
  },
  {
   "cell_type": "markdown",
   "id": "a260180d",
   "metadata": {
    "slideshow": {
     "slide_type": "slide"
    }
   },
   "source": [
    "## Working with Strings"
   ]
  },
  {
   "cell_type": "code",
   "execution_count": 2,
   "id": "275187e5",
   "metadata": {
    "slideshow": {
     "slide_type": "fragment"
    }
   },
   "outputs": [
    {
     "data": {
      "text/plain": [
       "'Single quoted sting'"
      ]
     },
     "execution_count": 2,
     "metadata": {},
     "output_type": "execute_result"
    }
   ],
   "source": [
    "'Single quoted sting' # Single quotes string"
   ]
  },
  {
   "cell_type": "code",
   "execution_count": 3,
   "id": "6a6588ff",
   "metadata": {
    "slideshow": {
     "slide_type": "fragment"
    }
   },
   "outputs": [
    {
     "data": {
      "text/plain": [
       "'This one is in a Double quotes'"
      ]
     },
     "execution_count": 3,
     "metadata": {},
     "output_type": "execute_result"
    }
   ],
   "source": [
    "\"This one is in a Double quotes\""
   ]
  },
  {
   "cell_type": "code",
   "execution_count": 4,
   "id": "a8c88552",
   "metadata": {
    "slideshow": {
     "slide_type": "fragment"
    }
   },
   "outputs": [
    {
     "data": {
      "text/plain": [
       "'a'"
      ]
     },
     "execution_count": 4,
     "metadata": {},
     "output_type": "execute_result"
    }
   ],
   "source": [
    "'a' # can be a single character"
   ]
  },
  {
   "cell_type": "code",
   "execution_count": 5,
   "id": "9ce26e2d",
   "metadata": {
    "slideshow": {
     "slide_type": "fragment"
    }
   },
   "outputs": [
    {
     "data": {
      "text/plain": [
       "'Hello'"
      ]
     },
     "execution_count": 5,
     "metadata": {},
     "output_type": "execute_result"
    }
   ],
   "source": [
    "\"Hello\" # can be a word"
   ]
  },
  {
   "cell_type": "code",
   "execution_count": 6,
   "id": "2e016e29",
   "metadata": {
    "slideshow": {
     "slide_type": "slide"
    }
   },
   "outputs": [
    {
     "ename": "SyntaxError",
     "evalue": "invalid syntax (234263456.py, line 1)",
     "output_type": "error",
     "traceback": [
      "\u001b[1;36m  Input \u001b[1;32mIn [6]\u001b[1;36m\u001b[0m\n\u001b[1;33m    'I'm learning Python' # Leads to a SYNTAX error as it will confuse the interpreter\u001b[0m\n\u001b[1;37m       ^\u001b[0m\n\u001b[1;31mSyntaxError\u001b[0m\u001b[1;31m:\u001b[0m invalid syntax\n"
     ]
    }
   ],
   "source": [
    "'I'm learning Python' # Leads to a SYNTAX error as it will confuse the interpreter "
   ]
  },
  {
   "cell_type": "code",
   "execution_count": 7,
   "id": "1f116864",
   "metadata": {
    "slideshow": {
     "slide_type": "fragment"
    }
   },
   "outputs": [
    {
     "data": {
      "text/plain": [
       "\"I'm a Python Learner\""
      ]
     },
     "execution_count": 7,
     "metadata": {},
     "output_type": "execute_result"
    }
   ],
   "source": [
    "\"I'm a Python Learner\" # Single quotes, if any in a string should be enclosed in double quotes. No error now"
   ]
  },
  {
   "cell_type": "markdown",
   "id": "d63c3e45",
   "metadata": {
    "slideshow": {
     "slide_type": "slide"
    }
   },
   "source": [
    "### Usually, you will be printing strings. However, in Jupyter if you are <u>only streaming out multiple strings without the PRINT function</u> it will only yield the last strings, as shown below:"
   ]
  },
  {
   "cell_type": "code",
   "execution_count": 8,
   "id": "91c2f0cf",
   "metadata": {
    "slideshow": {
     "slide_type": "fragment"
    }
   },
   "outputs": [
    {
     "data": {
      "text/plain": [
       "'This is string number 2'"
      ]
     },
     "execution_count": 8,
     "metadata": {},
     "output_type": "execute_result"
    }
   ],
   "source": [
    "\"This is String number 1\"\n",
    "\"This is string number 2\""
   ]
  },
  {
   "cell_type": "markdown",
   "id": "f8690726",
   "metadata": {
    "slideshow": {
     "slide_type": "fragment"
    }
   },
   "source": [
    "To output both the strings, you should use the print()"
   ]
  },
  {
   "cell_type": "code",
   "execution_count": 9,
   "id": "bafdb977",
   "metadata": {
    "slideshow": {
     "slide_type": "fragment"
    }
   },
   "outputs": [
    {
     "name": "stdout",
     "output_type": "stream",
     "text": [
      "This is String number 1\n",
      "This is string number 2\n"
     ]
    }
   ],
   "source": [
    "# Printing a string directly MUST be enclosed in single/doulbe quotes\n",
    "print(\"This is String number 1\")\n",
    "print(\"This is string number 2\")"
   ]
  },
  {
   "cell_type": "markdown",
   "id": "75d91922",
   "metadata": {
    "slideshow": {
     "slide_type": "slide"
    }
   },
   "source": [
    "## Assigning strings to a variable "
   ]
  },
  {
   "cell_type": "code",
   "execution_count": 10,
   "id": "a7bd0eb1",
   "metadata": {
    "slideshow": {
     "slide_type": "fragment"
    }
   },
   "outputs": [
    {
     "name": "stdout",
     "output_type": "stream",
     "text": [
      "Mercedes\n",
      "car\n",
      "2018\n",
      "XYZ Showroom LLC\n"
     ]
    }
   ],
   "source": [
    "car = 'Mercedes'\n",
    "model = \"2018\"  # 2018 is not a number anymore as it is enclosed in quotes\n",
    "dealer = \"XYZ Showroom LLC\"\n",
    "\n",
    "print(car) # variables should be provided WITHOUT the quotes\n",
    "print(\"car\") # notice the output when variables are used in quotes \n",
    "print(model)\n",
    "print(dealer)"
   ]
  },
  {
   "cell_type": "markdown",
   "id": "ba779149",
   "metadata": {
    "slideshow": {
     "slide_type": "slide"
    }
   },
   "source": [
    "### Printing strings with special characters"
   ]
  },
  {
   "cell_type": "code",
   "execution_count": 14,
   "id": "7c8749c7",
   "metadata": {
    "slideshow": {
     "slide_type": "fragment"
    }
   },
   "outputs": [
    {
     "name": "stdout",
     "output_type": "stream",
     "text": [
      "First line Second line\n"
     ]
    }
   ],
   "source": [
    "print(\"First line Second line\")"
   ]
  },
  {
   "cell_type": "code",
   "execution_count": 17,
   "id": "ac8c4fe8",
   "metadata": {
    "slideshow": {
     "slide_type": "fragment"
    }
   },
   "outputs": [
    {
     "name": "stdout",
     "output_type": "stream",
     "text": [
      "First line \n",
      " Second line\n"
     ]
    }
   ],
   "source": [
    "print(\"First line \\n Second line\") \n",
    "# mind the space characters. \"n\" is a special character for new line and is \"escaped\" with \"\\\"\n"
   ]
  },
  {
   "cell_type": "code",
   "execution_count": 18,
   "id": "d446c49c",
   "metadata": {
    "slideshow": {
     "slide_type": "fragment"
    }
   },
   "outputs": [
    {
     "name": "stdout",
     "output_type": "stream",
     "text": [
      "First line \t Second line\n"
     ]
    }
   ],
   "source": [
    "print(\"First line \\t Second line\") # including \"tab\" spacing"
   ]
  },
  {
   "cell_type": "code",
   "execution_count": 20,
   "id": "ed328f72",
   "metadata": {
    "slideshow": {
     "slide_type": "fragment"
    }
   },
   "outputs": [
    {
     "name": "stdout",
     "output_type": "stream",
     "text": [
      "First line \" Second line\n"
     ]
    }
   ],
   "source": [
    "print(\"First line \\\" Second line\") # including \" "
   ]
  },
  {
   "cell_type": "markdown",
   "id": "8e663fd2",
   "metadata": {
    "slideshow": {
     "slide_type": "slide"
    }
   },
   "source": [
    "### FInding out the length of a string\n",
    "\n",
    "The **len()** function is used to return the number of characters, includeing spaces, in a string"
   ]
  },
  {
   "cell_type": "code",
   "execution_count": 22,
   "id": "9c7bdb55",
   "metadata": {
    "slideshow": {
     "slide_type": "fragment"
    }
   },
   "outputs": [
    {
     "data": {
      "text/plain": [
       "16"
      ]
     },
     "execution_count": 22,
     "metadata": {},
     "output_type": "execute_result"
    }
   ],
   "source": [
    "len(\"I am\")\n",
    "len(car)\n",
    "len(model)\n",
    "len(dealer)\n",
    "\n",
    "# Only the last function will be executed. Better to use print()"
   ]
  },
  {
   "cell_type": "code",
   "execution_count": 23,
   "id": "cf2e771d",
   "metadata": {
    "slideshow": {
     "slide_type": "fragment"
    }
   },
   "outputs": [
    {
     "name": "stdout",
     "output_type": "stream",
     "text": [
      "4\n",
      "8\n",
      "4\n",
      "16\n"
     ]
    }
   ],
   "source": [
    "print(len(\"I am\"))\n",
    "print(len(car))\n",
    "print(len(model))\n",
    "print(len(dealer))"
   ]
  },
  {
   "cell_type": "code",
   "execution_count": 25,
   "id": "7f5feb93",
   "metadata": {
    "slideshow": {
     "slide_type": "slide"
    }
   },
   "outputs": [
    {
     "ename": "TypeError",
     "evalue": "can only concatenate str (not \"int\") to str",
     "output_type": "error",
     "traceback": [
      "\u001b[1;31m---------------------------------------------------------------------------\u001b[0m",
      "\u001b[1;31mTypeError\u001b[0m                                 Traceback (most recent call last)",
      "Input \u001b[1;32mIn [25]\u001b[0m, in \u001b[0;36m<cell line: 1>\u001b[1;34m()\u001b[0m\n\u001b[1;32m----> 1\u001b[0m \u001b[38;5;28mprint\u001b[39m(\u001b[38;5;124;43m\"\u001b[39;49m\u001b[38;5;124;43mThe string Iam has\u001b[39;49m\u001b[38;5;124;43m\"\u001b[39;49m\u001b[38;5;241;43m+\u001b[39;49m\u001b[43m \u001b[49m\u001b[38;5;28;43mlen\u001b[39;49m\u001b[43m(\u001b[49m\u001b[38;5;124;43m\"\u001b[39;49m\u001b[38;5;124;43mI am\u001b[39;49m\u001b[38;5;124;43m\"\u001b[39;49m\u001b[43m)\u001b[49m\u001b[38;5;241m+\u001b[39m\u001b[38;5;124m\"\u001b[39m\u001b[38;5;124m characters\u001b[39m\u001b[38;5;124m\"\u001b[39m)\n",
      "\u001b[1;31mTypeError\u001b[0m: can only concatenate str (not \"int\") to str"
     ]
    }
   ],
   "source": [
    "print(\"The string Iam has\"+ len(\"I am\")+\" characters\")"
   ]
  },
  {
   "cell_type": "markdown",
   "id": "a57b89fe",
   "metadata": {
    "slideshow": {
     "slide_type": "fragment"
    }
   },
   "source": [
    "# <font color=\"red\"> Why is there an error?? </font>"
   ]
  }
 ],
 "metadata": {
  "celltoolbar": "Slideshow",
  "kernelspec": {
   "display_name": "Python 3 (ipykernel)",
   "language": "python",
   "name": "python3"
  },
  "language_info": {
   "codemirror_mode": {
    "name": "ipython",
    "version": 3
   },
   "file_extension": ".py",
   "mimetype": "text/x-python",
   "name": "python",
   "nbconvert_exporter": "python",
   "pygments_lexer": "ipython3",
   "version": "3.9.12"
  }
 },
 "nbformat": 4,
 "nbformat_minor": 5
}
