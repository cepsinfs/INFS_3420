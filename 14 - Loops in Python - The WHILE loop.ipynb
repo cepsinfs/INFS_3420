{
 "cells": [
  {
   "cell_type": "markdown",
   "id": "48dea5e9",
   "metadata": {
    "slideshow": {
     "slide_type": "slide"
    }
   },
   "source": [
    "# The *while* Loop\n",
    "\n",
    "* The ***while*** loop execute a line/set of code as long as a *boolean* condition is true\n",
    "* **Example scenario:**\n",
    "    * While the user provided password is not equal to the stored/saved password, keep asking the user to enter the correct password\n",
    "\n",
    "### The *while* loop usage"
   ]
  },
  {
   "cell_type": "code",
   "execution_count": 1,
   "id": "7070fd95",
   "metadata": {
    "slideshow": {
     "slide_type": "slide"
    }
   },
   "outputs": [
    {
     "name": "stdout",
     "output_type": "stream",
     "text": [
      "Sum of the first five numbers is:  15\n"
     ]
    }
   ],
   "source": [
    "# adding the first five positive integers \n",
    "\n",
    "number = 1\n",
    "add = 0\n",
    "\n",
    "while number <= 5:\n",
    "    add = add +  number # values of \"add\" at each iteration: 1, 3, 6, 10, 15\n",
    "    number = number +1 # 2, 3, 4, 5, Terminates at number = 6\n",
    "\n",
    "print(\"Sum of the first five numbers is: \", add) \n",
    "    "
   ]
  },
  {
   "cell_type": "markdown",
   "id": "8f7dc395",
   "metadata": {
    "slideshow": {
     "slide_type": "slide"
    }
   },
   "source": [
    "#### The above example can also be done as follows:"
   ]
  },
  {
   "cell_type": "code",
   "execution_count": 4,
   "id": "008931ab",
   "metadata": {
    "slideshow": {
     "slide_type": "slide"
    }
   },
   "outputs": [
    {
     "name": "stdout",
     "output_type": "stream",
     "text": [
      "[1, 2, 3, 4, 5, 6, 7, 8, 9, 10]\n",
      "The sum of the first five numbers in the list is:  15\n"
     ]
    }
   ],
   "source": [
    "numbers = list(range(1, 11))\n",
    "print(numbers) # just printing the list \n",
    "\n",
    "item = 0 # for indexing the list\n",
    "total= 0 # as a starting point\n",
    "\n",
    "while item < len(numbers):\n",
    "    total = total  + numbers[item]\n",
    "    item = item +1 \n",
    "    \n",
    "    if item == 5: \n",
    "        break    # breaking the loop to ensure that indexing dont go beyond 5 - our objective\n",
    "print(\"The sum of the first five numbers in the list is: \", total)\n"
   ]
  },
  {
   "cell_type": "code",
   "execution_count": 3,
   "id": "77a80753",
   "metadata": {
    "scrolled": true,
    "slideshow": {
     "slide_type": "slide"
    }
   },
   "outputs": [
    {
     "name": "stdout",
     "output_type": "stream",
     "text": [
      "The sum of first 5 numbers in the list is:  15\n"
     ]
    }
   ],
   "source": [
    "# The above list addition can also be done without the WHILE loop using the buitin function sum()\n",
    "\n",
    "list_of_numbers = list(range(1,11))\n",
    "total = sum(list_of_numbers[:5])\n",
    "print(\"The sum of first 5 numbers in the list is: \", total)\n"
   ]
  },
  {
   "cell_type": "markdown",
   "id": "79773e3b",
   "metadata": {
    "slideshow": {
     "slide_type": "slide"
    }
   },
   "source": [
    "# Homework\n",
    "Given a list in range(30, 51)\n",
    "* Find the sum of the first 7 even numbers in the list\n",
    "* Find the average of the first 7 odd numbers in the list"
   ]
  }
 ],
 "metadata": {
  "celltoolbar": "Slideshow",
  "kernelspec": {
   "display_name": "Python 3 (ipykernel)",
   "language": "python",
   "name": "python3"
  },
  "language_info": {
   "codemirror_mode": {
    "name": "ipython",
    "version": 3
   },
   "file_extension": ".py",
   "mimetype": "text/x-python",
   "name": "python",
   "nbconvert_exporter": "python",
   "pygments_lexer": "ipython3",
   "version": "3.9.12"
  }
 },
 "nbformat": 4,
 "nbformat_minor": 5
}
