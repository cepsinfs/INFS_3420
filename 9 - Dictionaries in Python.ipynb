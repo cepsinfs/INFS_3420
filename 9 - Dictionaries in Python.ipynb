{
 "cells": [
  {
   "cell_type": "markdown",
   "id": "35b77efb",
   "metadata": {
    "slideshow": {
     "slide_type": "slide"
    }
   },
   "source": [
    "# Dictionaries\n",
    "\n",
    "* Dictionaries are **unordered** mappings for storing objects. \n",
    "* Previously we saw how lists store objects in an ordered sequence, dictionaries use  a **key-value pairing** instead.\n",
    "* This **key-value pair** allows users to quickly grab objects without needing to know an index location\n",
    "***\n",
    "* Dictionaries use curly braces and colons to signify the keys and their associated values.\n",
    "\n",
    "    **{'key1':'value1','key2':'value2'}**\n",
    "\n",
    "#### <div class = \"alert alert-block alert-info\">You can assume the <font color=\"blue\">'key1'</font> and <font color=\"blue\">'key2'</font> are the variable names and <font color=\"blue\">'value1'</font> and <font color=\"blue\">'value2'</font> are their values, respectively\n",
    "</div>\n",
    "\n",
    "***\n",
    "### So when to choose a list and when to choose a dictionary?\n",
    "\n",
    "* **Dictionaries:**  Objects retrieved by key name.\n",
    "Unordered and can not be sorted.\n",
    "* **Lists:**  Objects retrieved by location.\n",
    "Ordered Sequence can be indexed or sliced\n",
    "\n",
    "Lets have a few examples\n"
   ]
  },
  {
   "cell_type": "code",
   "execution_count": 4,
   "id": "6abde6ab",
   "metadata": {
    "slideshow": {
     "slide_type": "slide"
    }
   },
   "outputs": [
    {
     "data": {
      "text/plain": [
       "{'colg1': 'CEPS', 'colg2': 'CoE', 'uni': 'SQU'}"
      ]
     },
     "execution_count": 4,
     "metadata": {},
     "output_type": "execute_result"
    }
   ],
   "source": [
    "university = {\"colg1\":\"CEPS\",\"colg2\":\"CoE\",\"uni\":\"SQU\"}\n",
    "\n",
    "university"
   ]
  },
  {
   "cell_type": "code",
   "execution_count": 6,
   "id": "39642eb0",
   "metadata": {
    "slideshow": {
     "slide_type": "fragment"
    }
   },
   "outputs": [
    {
     "name": "stdout",
     "output_type": "stream",
     "text": [
      "CoE\n",
      "SQU\n"
     ]
    }
   ],
   "source": [
    "# Accessing dictionary elements\n",
    "\n",
    "print(university['colg2']) # Retrieving CoE\n",
    "\n",
    "print(university[\"uni\"]) # Retrieving SQU"
   ]
  },
  {
   "cell_type": "code",
   "execution_count": 7,
   "id": "eeb21617",
   "metadata": {
    "slideshow": {
     "slide_type": "slide"
    }
   },
   "outputs": [
    {
     "data": {
      "text/plain": [
       "0.75"
      ]
     },
     "execution_count": 7,
     "metadata": {},
     "output_type": "execute_result"
    }
   ],
   "source": [
    "fruits_veg_prices = {\"apples\": 1.99, \"tomatoes\": 0.75, \"carrots\": 1.5}\n",
    "\n",
    "fruits_veg_prices['tomatoes']"
   ]
  },
  {
   "cell_type": "markdown",
   "id": "9858fd83",
   "metadata": {},
   "source": [
    " ### Dictionaries can hold list and other(nested) dictionaries"
   ]
  },
  {
   "cell_type": "code",
   "execution_count": 5,
   "id": "4d8e690b",
   "metadata": {},
   "outputs": [
    {
     "data": {
      "text/plain": [
       "{'uni': 'SQU',\n",
       " 'CEPS': ['INFS', 'FIN', 'MGMT'],\n",
       " 'CoE': {'dept1': 'CE', 'dept2': 'EE'}}"
      ]
     },
     "execution_count": 5,
     "metadata": {},
     "output_type": "execute_result"
    }
   ],
   "source": [
    "dept = {'uni':'SQU', 'CEPS':['INFS','FIN','MGMT'], 'CoE':{'dept1':'CE', 'dept2':'EE'}}\n",
    "dept"
   ]
  },
  {
   "cell_type": "code",
   "execution_count": 6,
   "id": "f1740cd4",
   "metadata": {},
   "outputs": [
    {
     "name": "stdout",
     "output_type": "stream",
     "text": [
      "SQU\n",
      "['INFS', 'FIN', 'MGMT']\n",
      "FIN\n",
      "{'dept1': 'CE', 'dept2': 'EE'}\n",
      "EE\n"
     ]
    }
   ],
   "source": [
    "\n",
    "print(dept['uni']) # Accessing university info\n",
    "\n",
    "print(dept['CEPS']) # Accessing CEPS all departments\n",
    "\n",
    "print(dept['CEPS'][1]) # Accessing FIN department of the CEPS\n",
    "\n",
    "print(dept['CoE']) # Accessing CoE all departments\n",
    "\n",
    "print(dept['CoE']['dept2']) # Accessing the second department (EE) of CoE\n"
   ]
  },
  {
   "cell_type": "code",
   "execution_count": 7,
   "id": "05a9076f",
   "metadata": {},
   "outputs": [
    {
     "data": {
      "text/plain": [
       "{'uni': 'SQU',\n",
       " 'CEPS': ['infs', 'fin', 'mgmt'],\n",
       " 'CoE': {'dept1': 'ce', 'dept2': 'ee'}}"
      ]
     },
     "execution_count": 7,
     "metadata": {},
     "output_type": "execute_result"
    }
   ],
   "source": [
    "# Converting all departments names to lower case\n",
    "# NOTE: This could be easily done with loop (for or while), but for now lets do it manually\n",
    "\n",
    "# lowering case and reassigning CEPS departments' names\n",
    "\n",
    "dept['CEPS'][0] = dept['CEPS'][0].lower()  \n",
    "dept['CEPS'][1] = dept['CEPS'][1].lower()\n",
    "dept['CEPS'][2] = dept['CEPS'][2].lower()\n",
    "\n",
    "# lowering case and reassigning CoE departments' names\n",
    "\n",
    "dept['CoE']['dept1'] = dept['CoE']['dept1'].lower()\n",
    "dept['CoE']['dept2'] = dept['CoE']['dept2'].lower()\n",
    "\n",
    "dept"
   ]
  },
  {
   "cell_type": "code",
   "execution_count": 8,
   "id": "ab755ed0",
   "metadata": {},
   "outputs": [
    {
     "name": "stdout",
     "output_type": "stream",
     "text": [
      "{'uni': 'SQU', 'CEPS': ['infs', 'fin', 'mgmt', 'POLS'], 'CoE': {'dept1': 'ce', 'dept2': 'ee', 'dept3': 'IE'}, 'CoS': 'CS'}\n"
     ]
    }
   ],
   "source": [
    "# Adding a new item to the Dictionary\n",
    "\n",
    "# Firstly, to the main dictionary\n",
    "\n",
    "dept['CoS'] = 'CS'\n",
    "\n",
    "# Adding new item/department to the sub-dictionary (CoE)\n",
    "\n",
    "dept['CoE']['dept3'] = \"IE\"\n",
    "\n",
    "# Adding  new item/department to the CEPS list\n",
    "\n",
    "dept['CEPS'].append(\"POLS\")\n",
    "\n",
    "print(dept)"
   ]
  },
  {
   "cell_type": "markdown",
   "id": "39219a71",
   "metadata": {},
   "source": [
    "### Grabbing all keys and values"
   ]
  },
  {
   "cell_type": "code",
   "execution_count": 9,
   "id": "bdfe5341",
   "metadata": {},
   "outputs": [
    {
     "data": {
      "text/plain": [
       "dict_keys(['uni', 'CEPS', 'CoE', 'CoS'])"
      ]
     },
     "execution_count": 9,
     "metadata": {},
     "output_type": "execute_result"
    }
   ],
   "source": [
    "# the keys() method is used to return all keys in a dictionary\n",
    "dept.keys()\n"
   ]
  },
  {
   "cell_type": "code",
   "execution_count": 10,
   "id": "ece770bb",
   "metadata": {},
   "outputs": [
    {
     "data": {
      "text/plain": [
       "dict_values(['SQU', ['infs', 'fin', 'mgmt', 'POLS'], {'dept1': 'ce', 'dept2': 'ee', 'dept3': 'IE'}, 'CS'])"
      ]
     },
     "execution_count": 10,
     "metadata": {},
     "output_type": "execute_result"
    }
   ],
   "source": [
    "# the values() method is used to return all the values in a dictionary\n",
    "dept.values()\n"
   ]
  },
  {
   "cell_type": "code",
   "execution_count": 11,
   "id": "88d37292",
   "metadata": {},
   "outputs": [
    {
     "data": {
      "text/plain": [
       "dict_items([('uni', 'SQU'), ('CEPS', ['infs', 'fin', 'mgmt', 'POLS']), ('CoE', {'dept1': 'ce', 'dept2': 'ee', 'dept3': 'IE'}), ('CoS', 'CS')])"
      ]
     },
     "execution_count": 11,
     "metadata": {},
     "output_type": "execute_result"
    }
   ],
   "source": [
    "# The items() methods returns the keys and values in PAIRS\n",
    "dept.items()\n"
   ]
  },
  {
   "cell_type": "code",
   "execution_count": null,
   "id": "a8a72752",
   "metadata": {},
   "outputs": [],
   "source": []
  },
  {
   "cell_type": "code",
   "execution_count": null,
   "id": "e654f6bb",
   "metadata": {},
   "outputs": [],
   "source": []
  }
 ],
 "metadata": {
  "celltoolbar": "Slideshow",
  "kernelspec": {
   "display_name": "Python 3 (ipykernel)",
   "language": "python",
   "name": "python3"
  },
  "language_info": {
   "codemirror_mode": {
    "name": "ipython",
    "version": 3
   },
   "file_extension": ".py",
   "mimetype": "text/x-python",
   "name": "python",
   "nbconvert_exporter": "python",
   "pygments_lexer": "ipython3",
   "version": "3.9.12"
  }
 },
 "nbformat": 4,
 "nbformat_minor": 5
}
