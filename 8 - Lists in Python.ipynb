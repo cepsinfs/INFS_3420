{
 "cells": [
  {
   "cell_type": "markdown",
   "id": "f7d71de0",
   "metadata": {
    "slideshow": {
     "slide_type": "slide"
    }
   },
   "source": [
    "# Lists in Python\n",
    "\n",
    "\n",
    "\n",
    "A list is a data structure that's built into Python and holds a collection of items. Lists have a number of important characteristics:\n",
    "\n",
    "* List items are enclosed in square brackets, like this **[item1, item2, item3]**.\n",
    "* Lists are **ordered** – i.e. the items in the list appear in a specific order. This enables us to use **indexing and slicing** to access to any item.\n",
    "* Lists are **mutable**, which means you can add or remove items after a list's creation.\n",
    "* List elements do not need to be unique. Item duplication is possible, as each element has its own distinct place and can be accessed separately through the index.\n",
    "* **Elements can be of different data types**: you can combine strings, integers, and objects in the same list.\n",
    "\n"
   ]
  },
  {
   "cell_type": "code",
   "execution_count": 1,
   "id": "8e6a151a",
   "metadata": {
    "slideshow": {
     "slide_type": "slide"
    }
   },
   "outputs": [
    {
     "name": "stdout",
     "output_type": "stream",
     "text": [
      "['a', 'x', 'sorry', 15, 23.5]\n"
     ]
    },
    {
     "data": {
      "text/plain": [
       "list"
      ]
     },
     "execution_count": 1,
     "metadata": {},
     "output_type": "execute_result"
    }
   ],
   "source": [
    "#Example list creation\n",
    "\n",
    "mylist = ['a', 'x', \"sorry\", 15, 23.5] \n",
    "\n",
    "print(mylist) # printing list items\n",
    "\n",
    "type(mylist) # returning the type of the list"
   ]
  },
  {
   "cell_type": "code",
   "execution_count": 2,
   "id": "acbbda8a",
   "metadata": {
    "slideshow": {
     "slide_type": "fragment"
    }
   },
   "outputs": [
    {
     "data": {
      "text/plain": [
       "5"
      ]
     },
     "execution_count": 2,
     "metadata": {},
     "output_type": "execute_result"
    }
   ],
   "source": [
    "# lenght of a list\n",
    "\n",
    "len(mylist) # As there are five items, it will return 5"
   ]
  },
  {
   "cell_type": "markdown",
   "id": "0acb1b97",
   "metadata": {
    "slideshow": {
     "slide_type": "slide"
    }
   },
   "source": [
    "## Indexing in Lists"
   ]
  },
  {
   "cell_type": "code",
   "execution_count": 3,
   "id": "89d1f447",
   "metadata": {
    "slideshow": {
     "slide_type": "fragment"
    }
   },
   "outputs": [
    {
     "name": "stdout",
     "output_type": "stream",
     "text": [
      "x\n",
      "sorry\n",
      "a\n"
     ]
    }
   ],
   "source": [
    "# Retrieving specific items in the list - Using indexing\n",
    "\n",
    "print(mylist[1])\n",
    "print(mylist[2])\n",
    "print(mylist[0])\n"
   ]
  },
  {
   "cell_type": "code",
   "execution_count": 4,
   "id": "abf33823",
   "metadata": {
    "slideshow": {
     "slide_type": "fragment"
    }
   },
   "outputs": [
    {
     "data": {
      "text/plain": [
       "float"
      ]
     },
     "execution_count": 4,
     "metadata": {},
     "output_type": "execute_result"
    }
   ],
   "source": [
    "# Returning the type of a specific item in the list\n",
    "\n",
    "type(mylist[4]) # type of 23.5 is float"
   ]
  },
  {
   "cell_type": "markdown",
   "id": "d7035475",
   "metadata": {
    "slideshow": {
     "slide_type": "slide"
    }
   },
   "source": [
    "## Slicing in lists"
   ]
  },
  {
   "cell_type": "code",
   "execution_count": 5,
   "id": "38515a12",
   "metadata": {
    "slideshow": {
     "slide_type": "fragment"
    }
   },
   "outputs": [
    {
     "data": {
      "text/plain": [
       "['a', 'x', 'sorry', 15, 23.5]"
      ]
     },
     "execution_count": 5,
     "metadata": {},
     "output_type": "execute_result"
    }
   ],
   "source": [
    "mylist # Just streaming out the list"
   ]
  },
  {
   "cell_type": "code",
   "execution_count": 6,
   "id": "e4af39b9",
   "metadata": {
    "slideshow": {
     "slide_type": "fragment"
    }
   },
   "outputs": [
    {
     "data": {
      "text/plain": [
       "['x', 'sorry', 15, 23.5]"
      ]
     },
     "execution_count": 6,
     "metadata": {},
     "output_type": "execute_result"
    }
   ],
   "source": [
    "# slicing from item 1 ('x') till end\n",
    "\n",
    "mylist[1:]"
   ]
  },
  {
   "cell_type": "code",
   "execution_count": 7,
   "id": "b703cd4e",
   "metadata": {
    "slideshow": {
     "slide_type": "slide"
    }
   },
   "outputs": [
    {
     "data": {
      "text/plain": [
       "['a', 'x', 'sorry']"
      ]
     },
     "execution_count": 7,
     "metadata": {},
     "output_type": "execute_result"
    }
   ],
   "source": [
    "# slicing from item 0 till 3\n",
    "\n",
    "mylist[:3]"
   ]
  },
  {
   "cell_type": "code",
   "execution_count": 8,
   "id": "ffca68eb",
   "metadata": {
    "slideshow": {
     "slide_type": "fragment"
    }
   },
   "outputs": [
    {
     "data": {
      "text/plain": [
       "['a', 'sorry', 23.5]"
      ]
     },
     "execution_count": 8,
     "metadata": {},
     "output_type": "execute_result"
    }
   ],
   "source": [
    "# slicing from item 0 till end with step 2\n",
    "\n",
    "mylist[::2]"
   ]
  },
  {
   "cell_type": "code",
   "execution_count": 9,
   "id": "862fc856",
   "metadata": {
    "slideshow": {
     "slide_type": "slide"
    }
   },
   "outputs": [
    {
     "name": "stdout",
     "output_type": "stream",
     "text": [
      "['a', 'x', 'sorry', 15, 23.5]\n",
      "['a', 'sorry', 23.5]\n",
      "['a', 'sorry', 23.5]\n"
     ]
    }
   ],
   "source": [
    "# Remember, slicing does not change/mutate the list items, unless the results is stored in another list\n",
    "\n",
    "print(mylist) # Original List\n",
    "\n",
    "print(mylist[::2]) # Only slicing\n",
    "\n",
    "new_list = mylist[::2] # Reassignment of the sliced version\n",
    "\n",
    "print(new_list)"
   ]
  },
  {
   "cell_type": "markdown",
   "id": "dd393cb8",
   "metadata": {
    "slideshow": {
     "slide_type": "slide"
    }
   },
   "source": [
    "## List mutation/items-changing"
   ]
  },
  {
   "cell_type": "code",
   "execution_count": 10,
   "id": "8167a871",
   "metadata": {
    "slideshow": {
     "slide_type": "fragment"
    }
   },
   "outputs": [
    {
     "name": "stdout",
     "output_type": "stream",
     "text": [
      "['a', 'x', 'sorry', 15, 23.5]\n",
      "[42.8, 'x', 'happy', 15, 23.5]\n"
     ]
    }
   ],
   "source": [
    "print(mylist)\n",
    "\n",
    "# Changing item value\n",
    "\n",
    "mylist[0] = 42.8 \n",
    "mylist[2] = \"happy\"\n",
    "\n",
    "print(mylist)"
   ]
  },
  {
   "cell_type": "markdown",
   "id": "c666b19d",
   "metadata": {
    "slideshow": {
     "slide_type": "slide"
    }
   },
   "source": [
    "## Adding lists\n",
    "\n",
    "### Adding =>> Concatenation\n"
   ]
  },
  {
   "cell_type": "code",
   "execution_count": 11,
   "id": "837d25e2",
   "metadata": {
    "slideshow": {
     "slide_type": "slide"
    }
   },
   "outputs": [
    {
     "name": "stdout",
     "output_type": "stream",
     "text": [
      "[1, 20.6, 'CEPS', 'INFS', 1, 'two', 'three', 'four']\n"
     ]
    }
   ],
   "source": [
    "first_list = [1, 20.6, 'CEPS', \"INFS\"]\n",
    "second_list = [1, \"two\", \"three\", \"four\"]\n",
    "\n",
    "final_list = first_list + second_list # creating new one\n",
    "\n",
    "print(final_list)\n",
    "\n"
   ]
  },
  {
   "cell_type": "code",
   "execution_count": 12,
   "id": "ab40dad3",
   "metadata": {
    "slideshow": {
     "slide_type": "slide"
    }
   },
   "outputs": [
    {
     "data": {
      "text/plain": [
       "[1, 20.6, 'CEPS', 'INFS', 'one', 'two', 'three', 'four']"
      ]
     },
     "execution_count": 12,
     "metadata": {},
     "output_type": "execute_result"
    }
   ],
   "source": [
    "# Changing values in the new list\n",
    "\n",
    "final_list[4] = \"one\" # Chaning 1 to \"one\"\n",
    "\n",
    "final_list\n"
   ]
  },
  {
   "cell_type": "markdown",
   "id": "eb78a65c",
   "metadata": {
    "slideshow": {
     "slide_type": "slide"
    }
   },
   "source": [
    "## Some common list methods/function\n",
    "***"
   ]
  },
  {
   "cell_type": "markdown",
   "id": "799c1fe2",
   "metadata": {
    "slideshow": {
     "slide_type": "slide"
    }
   },
   "source": [
    "#### The *append( )* method"
   ]
  },
  {
   "cell_type": "code",
   "execution_count": 13,
   "id": "a6c6cefc",
   "metadata": {
    "slideshow": {
     "slide_type": "fragment"
    }
   },
   "outputs": [
    {
     "name": "stdout",
     "output_type": "stream",
     "text": [
      "['football', 'cricket', 'rugby']\n",
      "['football', 'cricket', 'rugby', 'snooker']\n"
     ]
    }
   ],
   "source": [
    "# example list\n",
    "\n",
    "games = [\"football\", \"cricket\", \"rugby\"]\n",
    "\n",
    "# The append() method adds/appends ONLY ONE item to the end of the list\n",
    "\n",
    "print(games) # priniting the actual one\n",
    "\n",
    "games.append(\"snooker\") # adds snooker to the end of a list\n",
    "\n",
    "print(games)"
   ]
  },
  {
   "cell_type": "markdown",
   "id": "05293ea0",
   "metadata": {
    "slideshow": {
     "slide_type": "slide"
    }
   },
   "source": [
    "#### the insert() method"
   ]
  },
  {
   "cell_type": "code",
   "execution_count": 14,
   "id": "8b0aa0fe",
   "metadata": {
    "slideshow": {
     "slide_type": "fragment"
    }
   },
   "outputs": [
    {
     "name": "stdout",
     "output_type": "stream",
     "text": [
      "['football', 'hockey', 'cricket', 'rugby', 'snooker']\n"
     ]
    }
   ],
   "source": [
    "# insert(), adds an item at a specified index in the list\n",
    "\n",
    "games.insert(1, \"hockey\") # add hockey at games[1]\n",
    "\n",
    "print(games)\n"
   ]
  },
  {
   "cell_type": "markdown",
   "id": "6e4e9bc9",
   "metadata": {
    "slideshow": {
     "slide_type": "slide"
    }
   },
   "source": [
    "### the extend() method"
   ]
  },
  {
   "cell_type": "code",
   "execution_count": 15,
   "id": "a6df84b8",
   "metadata": {
    "slideshow": {
     "slide_type": "fragment"
    }
   },
   "outputs": [
    {
     "name": "stdout",
     "output_type": "stream",
     "text": [
      "['football', 'hockey', 'cricket', 'rugby', 'snooker', 'swimming', 'archery', 'tennis']\n"
     ]
    }
   ],
   "source": [
    "# extends a given list by adding elements into it from another list\n",
    "\n",
    "sports = ['swimming', 'archery', 'tennis']\n",
    "\n",
    "games.extend(sports)\n",
    "\n",
    "print(games)\n"
   ]
  },
  {
   "cell_type": "markdown",
   "id": "0f4e39b0",
   "metadata": {
    "slideshow": {
     "slide_type": "slide"
    }
   },
   "source": [
    "#### The *copy( )* method"
   ]
  },
  {
   "cell_type": "code",
   "execution_count": 16,
   "id": "89376de8",
   "metadata": {
    "slideshow": {
     "slide_type": "fragment"
    }
   },
   "outputs": [
    {
     "name": "stdout",
     "output_type": "stream",
     "text": [
      "['football', 'hockey', 'cricket', 'rugby', 'snooker', 'swimming', 'archery', 'tennis']\n"
     ]
    }
   ],
   "source": [
    "# The copy() method is used to Copy the list items to another list\n",
    "\n",
    "games_copy = games.copy()\n",
    "print(games_copy)"
   ]
  },
  {
   "cell_type": "markdown",
   "id": "37bd1494",
   "metadata": {
    "slideshow": {
     "slide_type": "slide"
    }
   },
   "source": [
    "#### The *count( )* method"
   ]
  },
  {
   "cell_type": "code",
   "execution_count": 17,
   "id": "7873cfaa",
   "metadata": {
    "slideshow": {
     "slide_type": "fragment"
    }
   },
   "outputs": [
    {
     "data": {
      "text/plain": [
       "1"
      ]
     },
     "execution_count": 17,
     "metadata": {},
     "output_type": "execute_result"
    }
   ],
   "source": [
    "# The count() method is used to return the count/numbers of an item value in the list\n",
    "\n",
    "games.count(\"cricket\")\n"
   ]
  },
  {
   "cell_type": "markdown",
   "id": "37b57592",
   "metadata": {
    "slideshow": {
     "slide_type": "slide"
    }
   },
   "source": [
    "#### The *remove( )* method"
   ]
  },
  {
   "cell_type": "code",
   "execution_count": 18,
   "id": "28173ef6",
   "metadata": {
    "scrolled": true,
    "slideshow": {
     "slide_type": "fragment"
    }
   },
   "outputs": [
    {
     "name": "stdout",
     "output_type": "stream",
     "text": [
      "['football', 'hockey', 'cricket', 'rugby', 'snooker', 'swimming', 'archery', 'tennis']\n",
      "['football', 'hockey', 'rugby', 'snooker', 'swimming', 'archery', 'tennis']\n"
     ]
    }
   ],
   "source": [
    "# The remove() method is used to remove the first items with a specified value\n",
    "\n",
    "print(games)\n",
    "\n",
    "games.remove(\"cricket\") # removes ONLY the first instance of cricket if found\n",
    "\n",
    "print(games)\n",
    "\n"
   ]
  },
  {
   "cell_type": "markdown",
   "id": "a550218c",
   "metadata": {
    "slideshow": {
     "slide_type": "slide"
    }
   },
   "source": [
    "### the pop() method"
   ]
  },
  {
   "cell_type": "code",
   "execution_count": 19,
   "id": "69aa8126",
   "metadata": {
    "scrolled": true,
    "slideshow": {
     "slide_type": "fragment"
    }
   },
   "outputs": [
    {
     "name": "stdout",
     "output_type": "stream",
     "text": [
      "['football', 'hockey', 'rugby', 'snooker', 'swimming', 'archery', 'tennis']\n",
      "['football', 'hockey', 'snooker', 'swimming', 'archery', 'tennis']\n"
     ]
    }
   ],
   "source": [
    "# pop(), removes an item specified by an index\n",
    "\n",
    "print(games)\n",
    "\n",
    "games.pop(2) # removes rugby\n",
    "\n",
    "print(games)"
   ]
  },
  {
   "cell_type": "markdown",
   "id": "f9e28a51",
   "metadata": {
    "slideshow": {
     "slide_type": "slide"
    }
   },
   "source": [
    "## the `del` Keyword"
   ]
  },
  {
   "cell_type": "code",
   "execution_count": 20,
   "id": "26c8242a",
   "metadata": {
    "slideshow": {
     "slide_type": "fragment"
    }
   },
   "outputs": [
    {
     "name": "stdout",
     "output_type": "stream",
     "text": [
      "['hockey', 'snooker', 'swimming', 'archery', 'tennis']\n"
     ]
    }
   ],
   "source": [
    "# the del keyword can also delete/remove an item or a the entire list\n",
    "name = \"Waqas\"\n",
    "\n",
    "del games[0]\n",
    "print(games)\n",
    "\n",
    "del games_copy ## removes the entire list\n",
    "\n",
    "del name # deletes the variable\n",
    "\n"
   ]
  },
  {
   "cell_type": "markdown",
   "id": "a30511d2",
   "metadata": {
    "slideshow": {
     "slide_type": "slide"
    }
   },
   "source": [
    "#### The *sort( )* method"
   ]
  },
  {
   "cell_type": "code",
   "execution_count": 21,
   "id": "d66e2346",
   "metadata": {
    "slideshow": {
     "slide_type": "fragment"
    }
   },
   "outputs": [
    {
     "name": "stdout",
     "output_type": "stream",
     "text": [
      "[1, 2, 3, 4, 6.5, 7]\n",
      "['a', 'b', 'd', 'e', 'f']\n",
      "['abc', 'google', 'sun', 'zoo']\n"
     ]
    }
   ],
   "source": [
    "# The sort() methods sorts the items alphabeticall or numerically\n",
    "# Works only if data is of either numbers or string, NOT mixed\n",
    "\n",
    "numbers = [2, 4, 3, 1, 7, 6.5]\n",
    "\n",
    "letters = ['d','a','f','b','e']\n",
    "\n",
    "letters_mix = ['sun', 'abc', 'zoo', 'google']\n",
    "\n",
    "numbers.sort() # sorting in ascending order\n",
    "\n",
    "print(numbers)\n",
    "\n",
    "letters.sort() # sorting letter alpabetically\n",
    "\n",
    "print(letters)\n",
    "\n",
    "letters_mix.sort()\n",
    "\n",
    "print(letters_mix)\n"
   ]
  },
  {
   "cell_type": "markdown",
   "id": "e1daa181",
   "metadata": {
    "slideshow": {
     "slide_type": "slide"
    }
   },
   "source": [
    "#### The *reverse( )* method"
   ]
  },
  {
   "cell_type": "code",
   "execution_count": 22,
   "id": "4821aa6c",
   "metadata": {
    "slideshow": {
     "slide_type": "fragment"
    }
   },
   "outputs": [
    {
     "name": "stdout",
     "output_type": "stream",
     "text": [
      "[1, 2, 3, 4, 6.5, 7]\n",
      "[7, 6.5, 4, 3, 2, 1]\n"
     ]
    }
   ],
   "source": [
    "# The reverse() method list the items in the reverse order (not reverse sorting)\n",
    "\n",
    "print(numbers) # They are already sorted\n",
    "\n",
    "numbers.reverse() # Reverses the order\n",
    "\n",
    "\n",
    "print(numbers)"
   ]
  },
  {
   "cell_type": "markdown",
   "id": "37b6b091",
   "metadata": {
    "slideshow": {
     "slide_type": "slide"
    }
   },
   "source": [
    "#### The *pop( )* method"
   ]
  },
  {
   "cell_type": "code",
   "execution_count": 23,
   "id": "6af3e158",
   "metadata": {
    "slideshow": {
     "slide_type": "fragment"
    }
   },
   "outputs": [
    {
     "name": "stdout",
     "output_type": "stream",
     "text": [
      "['a', 'b', 'd', 'e', 'f']\n",
      "['a', 'b', 'd', 'e']\n",
      "['a', 'd', 'e']\n"
     ]
    }
   ],
   "source": [
    "# The pop() methods removes the last item from the list\n",
    "\n",
    "print(letters)\n",
    "\n",
    "letters.pop() # removes the last item\n",
    "\n",
    "print(letters)\n",
    "\n",
    "# You can use the index number to pop out a specific item\n",
    "letters.pop(1) # removes the second item, \"b\"\n",
    "\n",
    "print(letters)"
   ]
  },
  {
   "cell_type": "markdown",
   "id": "553c4366",
   "metadata": {
    "slideshow": {
     "slide_type": "slide"
    }
   },
   "source": [
    "#### The *clear( )* method"
   ]
  },
  {
   "cell_type": "code",
   "execution_count": null,
   "id": "b7697333",
   "metadata": {
    "slideshow": {
     "slide_type": "fragment"
    }
   },
   "outputs": [],
   "source": [
    "# The clear() method removes all items from the list\n",
    "# empties the list\n",
    "\n",
    "print(numbers)\n",
    "\n",
    "numbers.clear() # removes all items\n",
    "\n",
    "print(numbers)"
   ]
  }
 ],
 "metadata": {
  "celltoolbar": "Slideshow",
  "kernelspec": {
   "display_name": "Python 3 (ipykernel)",
   "language": "python",
   "name": "python3"
  },
  "language_info": {
   "codemirror_mode": {
    "name": "ipython",
    "version": 3
   },
   "file_extension": ".py",
   "mimetype": "text/x-python",
   "name": "python",
   "nbconvert_exporter": "python",
   "pygments_lexer": "ipython3",
   "version": "3.9.12"
  }
 },
 "nbformat": 4,
 "nbformat_minor": 5
}
