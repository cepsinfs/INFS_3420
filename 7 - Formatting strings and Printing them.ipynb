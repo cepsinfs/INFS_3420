{
 "cells": [
  {
   "cell_type": "markdown",
   "id": "9949759e",
   "metadata": {
    "slideshow": {
     "slide_type": "slide"
    }
   },
   "source": [
    "## String Interpolation\n",
    "\n",
    "String interpolation is a process substituting/injecting values of variables into placeholders in a string\n",
    "\n",
    "This can be done in multiple ways. For example, with the **String Concatenation** method that we have seen earlier\n",
    "\n",
    "We will be using the following two ways for this course, which are the most common ones\n",
    "\n",
    "* **.format()** method\n",
    "* **f-strings** (formatted string literals)\n",
    "\n",
    "Follow the examples below:"
   ]
  },
  {
   "cell_type": "code",
   "execution_count": 1,
   "id": "0afadcca",
   "metadata": {
    "slideshow": {
     "slide_type": "slide"
    }
   },
   "outputs": [],
   "source": [
    "car = \"BMW\"\n",
    "year = 2018\n",
    "dealer = \"BMW LLC Oman\""
   ]
  },
  {
   "cell_type": "code",
   "execution_count": 7,
   "id": "f3150923",
   "metadata": {
    "slideshow": {
     "slide_type": "fragment"
    }
   },
   "outputs": [
    {
     "name": "stdout",
     "output_type": "stream",
     "text": [
      "The BMW LLC Oman only deals with BMW of the year 2018 and above\n"
     ]
    }
   ],
   "source": [
    "# Using the string concatenation\n",
    "\n",
    "print(\"The \"+dealer + \" only deals with \" + car + \" of the year \" + str(year) + \" and above\")"
   ]
  },
  {
   "cell_type": "markdown",
   "id": "fc9da9b6",
   "metadata": {
    "slideshow": {
     "slide_type": "slide"
    }
   },
   "source": [
    "### Using the <font color = \"blue\">.format() </font>method"
   ]
  },
  {
   "cell_type": "code",
   "execution_count": 8,
   "id": "ec7272c8",
   "metadata": {
    "slideshow": {
     "slide_type": "fragment"
    }
   },
   "outputs": [
    {
     "name": "stdout",
     "output_type": "stream",
     "text": [
      "The BMW LLC Oman only deals with BMW of the year 2018 and above\n"
     ]
    }
   ],
   "source": [
    "print(\"The {} only deals with {} of the year {} and above\".format(dealer, car, year))\n",
    "\n",
    "# variable values are injected/substituted"
   ]
  },
  {
   "cell_type": "code",
   "execution_count": 11,
   "id": "15b3d22b",
   "metadata": {
    "slideshow": {
     "slide_type": "fragment"
    }
   },
   "outputs": [
    {
     "name": "stdout",
     "output_type": "stream",
     "text": [
      "College of SQU and Political Economics, Science\n"
     ]
    }
   ],
   "source": [
    "print(\"College of {} and {} {}, {}\".format(\"SQU\", \"Political\",\"Economics\", \"Science\"))\n",
    "\n",
    "# Notice the irregularity in the output. It should be College of Economics and Political Science, SQU"
   ]
  },
  {
   "cell_type": "markdown",
   "id": "0c9f01b7",
   "metadata": {
    "slideshow": {
     "slide_type": "slide"
    }
   },
   "source": [
    "### To overcome the above irregularity, we can do the following\n",
    "* Using index (indices)\n",
    "* Using keywords"
   ]
  },
  {
   "cell_type": "code",
   "execution_count": 12,
   "id": "7cd51f78",
   "metadata": {
    "slideshow": {
     "slide_type": "fragment"
    }
   },
   "outputs": [
    {
     "name": "stdout",
     "output_type": "stream",
     "text": [
      "College of Economics and Political Science, SQU\n"
     ]
    }
   ],
   "source": [
    "# Using indices. Putting the right string in the right place using its index in the .format()\n",
    "\n",
    "print(\"College of {2} and {1} {3}, {0}\".format(\"SQU\", \"Political\",\"Economics\", \"Science\")) \n",
    "\n"
   ]
  },
  {
   "cell_type": "code",
   "execution_count": 14,
   "id": "ba61fd3b",
   "metadata": {
    "slideshow": {
     "slide_type": "fragment"
    }
   },
   "outputs": [
    {
     "name": "stdout",
     "output_type": "stream",
     "text": [
      "College of Economics and Political Science, SQU\n"
     ]
    }
   ],
   "source": [
    "# Using keywords. In this case: s, p, e and sc\n",
    "\n",
    "print(\"College of {e} and {p} {sc}, {s}\".format(s = \"SQU\", p = \"Political\", e = \"Economics\", sc = \"Science\"))"
   ]
  },
  {
   "cell_type": "markdown",
   "id": "85285f53",
   "metadata": {
    "slideshow": {
     "slide_type": "slide"
    }
   },
   "source": [
    "### String Interpolation using the <font color = \"blue\"> f-strings </font>(formatted string literals)\n",
    "\n",
    "This is one of the newest feature in Python 3.6 and above\n",
    "\n",
    "See examples below"
   ]
  },
  {
   "cell_type": "code",
   "execution_count": 15,
   "id": "a27f1b0b",
   "metadata": {
    "slideshow": {
     "slide_type": "slide"
    }
   },
   "outputs": [
    {
     "name": "stdout",
     "output_type": "stream",
     "text": [
      "Collge of Economics and Political Science, SQU \n"
     ]
    }
   ],
   "source": [
    "# Suppose we have the following variables to be interpolated\n",
    "s = \"SQU\"\n",
    "p = \"Political\"\n",
    "e = \"Economics\"\n",
    "sc = \"Science\"\n",
    "\n",
    "print(f\"Collge of {e} and {p} {sc}, {s} \") \n",
    "# Use the \"f\" (formatted string) in the beginning followed by the string with the variable names in {} brackets"
   ]
  },
  {
   "cell_type": "markdown",
   "id": "0fccceda",
   "metadata": {
    "slideshow": {
     "slide_type": "slide"
    }
   },
   "source": [
    "### Try the string: <font color = \"blue\"> 5 quick brown foxes </font>. Apply all methods that we have learnt. <font color = \"red\"> Consider 5 as an integer, not a string character </font>"
   ]
  }
 ],
 "metadata": {
  "celltoolbar": "Slideshow",
  "kernelspec": {
   "display_name": "Python 3 (ipykernel)",
   "language": "python",
   "name": "python3"
  },
  "language_info": {
   "codemirror_mode": {
    "name": "ipython",
    "version": 3
   },
   "file_extension": ".py",
   "mimetype": "text/x-python",
   "name": "python",
   "nbconvert_exporter": "python",
   "pygments_lexer": "ipython3",
   "version": "3.9.12"
  }
 },
 "nbformat": 4,
 "nbformat_minor": 5
}
