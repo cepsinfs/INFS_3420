{
 "cells": [
  {
   "cell_type": "markdown",
   "id": "01db8f1a",
   "metadata": {
    "slideshow": {
     "slide_type": "slide"
    }
   },
   "source": [
    "# Classes in Python \n",
    "\n",
    "* Certain time we want to compute attributes and functions for objects that share those attributes\n",
    "* Imagine your class:\n",
    "    - There are around 20+ students (**objects or instances**)\n",
    "    - They all have First last name\n",
    "    - There are certain operations (**functions**) like attendance, exams, registration, grading, etc., that are applicable to all students in this class/department/College/University\n",
    "    - When we describe these attributes and function (more precisely, *methods*) for individual student, we say that they are the **objects or instances** of this class\n",
    "    - In programming, this phenomenon can be captured in **object-oriented** manner through **classes** definition\n",
    "    - Classes help us save and organize our code in a much efficient way, instead of doing it for individual objects"
   ]
  },
  {
   "cell_type": "markdown",
   "id": "85794d55",
   "metadata": {
    "slideshow": {
     "slide_type": "slide"
    }
   },
   "source": [
    "<img src=\"images/class.png\" width= 50% height=\"50%\" />"
   ]
  },
  {
   "cell_type": "markdown",
   "id": "41638e3e",
   "metadata": {
    "slideshow": {
     "slide_type": "slide"
    }
   },
   "source": [
    "\n",
    "* Recall Data Objects studied earlier: list, dict, strings, etc.\n",
    "    - Once defined they become an object of a pre-defined class\n",
    "  \n",
    "    `marks = [24, 23, 30, 12]`\n",
    "\n",
    "    `print(type(marks))` \n",
    "\n",
    "    `output: <class 'list'>`\n",
    "    \n",
    "\n",
    "* Upon becoming an object of a class various methods, like `marks.insert(),  marks.sort()` etc., can be called to update/change these objects\n",
    "* **OOP allows us to create our own objects that have its own methods and attributes**"
   ]
  },
  {
   "cell_type": "markdown",
   "id": "34cc4123",
   "metadata": {
    "slideshow": {
     "slide_type": "slide"
    }
   },
   "source": [
    "## Defining Classes\n",
    "> Class definition can never be empty"
   ]
  },
  {
   "cell_type": "markdown",
   "id": "d1ee90c7",
   "metadata": {
    "slideshow": {
     "slide_type": "slide"
    }
   },
   "source": [
    "### Syntax\n",
    "\n",
    "`class class_name():`\n",
    "\n",
    "    def __init__(self, param1, param2):\n",
    "        self.param1 = param1\n",
    "        self.param2 = param2\n",
    "\n",
    "    def some_method(self):\n",
    "        # perform some action\n",
    "        print(self.param1)\n",
    "***        \n",
    "* The `__init__()` is a builtin function that will initialize every object with the respective attributes/parameters we create for this class\n",
    "* `param1` and `param2`are the attributes/parameters that will be assigned for every object created\n",
    "* `self` refers to the object itself for which the attributes are created\n",
    "    * **self** is is a pre-defined keyword that is always the first parameter catched by any method of the class.\n",
    "* `some_method(self)` is a user-defined method created for certain functionality required.\n",
    "    * In this case, it is only printing the *param1* for an object that will be calling it. \n",
    "    * Notice the *self* attribute. Whether or not any variables are passed to it, *self* is always the first parameter in the function definition"
   ]
  },
  {
   "cell_type": "markdown",
   "id": "b031eebd",
   "metadata": {
    "slideshow": {
     "slide_type": "slide"
    }
   },
   "source": [
    "### Important points\n",
    "* Classes are defined by starting with the `class` keyword followed by the `class name`, then `( )` and finally `:`\n",
    "* Attributes are also called **properties**\n",
    "* `__init__` is called automatically when an object of the class is created\n",
    "* **self** is is a pre-defined keyword that is always the first parameter catched by any method of the class.\n",
    "> <font color=\"red\">very important:: <b>Do mind the INDENTATION</b></font>\n"
   ]
  },
  {
   "cell_type": "markdown",
   "id": "ce09454c",
   "metadata": {
    "slideshow": {
     "slide_type": "slide"
    }
   },
   "source": [
    "## Creating a Class and its objects "
   ]
  },
  {
   "cell_type": "code",
   "execution_count": 6,
   "id": "01cfa6b7",
   "metadata": {
    "slideshow": {
     "slide_type": "fragment"
    }
   },
   "outputs": [],
   "source": [
    "# defining a class \n",
    "class Student:\n",
    "    pass \n",
    "    # The student class at the moment has no attributes or methods\n",
    "    # The pass statement is a null statement. It is a placeholder for future code"
   ]
  },
  {
   "cell_type": "markdown",
   "id": "260d1aad",
   "metadata": {
    "slideshow": {
     "slide_type": "slide"
    }
   },
   "source": [
    "## Creating Objects of the class"
   ]
  },
  {
   "cell_type": "code",
   "execution_count": 8,
   "id": "a2b39513",
   "metadata": {
    "slideshow": {
     "slide_type": "fragment"
    }
   },
   "outputs": [
    {
     "name": "stdout",
     "output_type": "stream",
     "text": [
      "<class '__main__.Student'>\n",
      "<class '__main__.Student'>\n"
     ]
    }
   ],
   "source": [
    "student1 = Student() # This command creates the object, student, of the class (student)\n",
    "student2 = Student() # Creating another student\n",
    "\n",
    "# The object creation above wont do anything as there is nothing in the class yet\n",
    "\n",
    "# Lets check their type, just for our information\n",
    "print( type(student1) )# You will see that the out put says that it is an object of the \"Student\" class\n",
    "print( type(student2) )"
   ]
  },
  {
   "cell_type": "markdown",
   "id": "bb207763",
   "metadata": {
    "slideshow": {
     "slide_type": "slide"
    }
   },
   "source": [
    "## Adding *attributes/properties* to the class"
   ]
  },
  {
   "cell_type": "code",
   "execution_count": 18,
   "id": "39ecd93d",
   "metadata": {
    "slideshow": {
     "slide_type": "slide"
    }
   },
   "outputs": [],
   "source": [
    "class Student:\n",
    "    \n",
    "    def __init__(self, name, age, marks): # The initialization functions with expected parameters\n",
    "        \n",
    "        # Setting properties/parameters/attributes\n",
    "        \n",
    "        self.name = name\n",
    "        self.age = age\n",
    "        self.marks = marks\n",
    "\n",
    "# Creating objects\n",
    "\n",
    "alice = Student(name = \"Alice\", age = 23, marks = 45) \n",
    "# By creating the object, the __init__ function will be automatically called\n",
    "# if you try to create object by not passing the expected properties, as alice = Student(), it will give you an error. \n",
    "# SELF is automatically called for the object we creat\n",
    "        "
   ]
  },
  {
   "cell_type": "markdown",
   "id": "f153bfa9",
   "metadata": {
    "slideshow": {
     "slide_type": "slide"
    }
   },
   "source": [
    "## Accessing the properties of a created Object"
   ]
  },
  {
   "cell_type": "code",
   "execution_count": 13,
   "id": "f4340c53",
   "metadata": {
    "slideshow": {
     "slide_type": "slide"
    }
   },
   "outputs": [
    {
     "name": "stdout",
     "output_type": "stream",
     "text": [
      "Alice\n",
      "23\n",
      "45\n"
     ]
    }
   ],
   "source": [
    "# Using the last example\n",
    "\n",
    "class Student:\n",
    "    \n",
    "    def __init__(self, name, age, marks): \n",
    "        \n",
    "        self.name = name\n",
    "        self.age = age\n",
    "        self.marks = marks\n",
    "\n",
    "# Creating object\n",
    "\n",
    "alice = Student(name = \"Alice\", age = 23, marks = 45) \n",
    "\n",
    "# Accessing the properties set for the Alice object\n",
    "\n",
    "print(alice.name) # Use OBJECT.PROPERTY_NAME to access the property of a particular object\n",
    "print(alice.age)\n",
    "print(alice.marks)"
   ]
  },
  {
   "cell_type": "code",
   "execution_count": 1,
   "id": "8ff47453",
   "metadata": {
    "slideshow": {
     "slide_type": "slide"
    }
   },
   "outputs": [
    {
     "name": "stdout",
     "output_type": "stream",
     "text": [
      "Bob has scored 70 marks whereas, Charlie has got 65 marks\n"
     ]
    }
   ],
   "source": [
    "# Creating more objects\n",
    "\n",
    "class Student:\n",
    "    \n",
    "    def __init__(self, name, age, marks): \n",
    "        \n",
    "        self.name = name\n",
    "        self.age = age\n",
    "        self.marks = marks\n",
    "\n",
    "# Creating objects\n",
    "\n",
    "bob = Student(name = \"Bob\", age = 22, marks = 70) \n",
    "charlie = Student(name = \"Charlie\", age = 23, marks = 65)\n",
    "\n",
    "# Accessing the properties set for objects\n",
    "\n",
    "print(f\"{bob.name} has scored {bob.marks} marks whereas, {charlie.name} has got {charlie.marks} marks\")"
   ]
  },
  {
   "cell_type": "markdown",
   "id": "ad0dc0d0",
   "metadata": {},
   "source": [
    "## Creating and Accessing methods of a class"
   ]
  },
  {
   "cell_type": "code",
   "execution_count": 2,
   "id": "e677b3ab",
   "metadata": {},
   "outputs": [
    {
     "data": {
      "text/plain": [
       "'Grade C'"
      ]
     },
     "execution_count": 2,
     "metadata": {},
     "output_type": "execute_result"
    }
   ],
   "source": [
    "# Defining Object Attributes using the __init__ method\n",
    "import statistics\n",
    "\n",
    "class StudentGrade():\n",
    "    \n",
    "    def __init__(self, name, obt_marks):\n",
    "        \n",
    "        self.name = name\n",
    "        self.marks = obt_marks\n",
    "        \n",
    "        \n",
    "        \n",
    "  #---------------------------------------------------------------------------------- \n",
    "  #                       Defining the class method\n",
    "  #-----------------------------------------------------------------------------------  \n",
    "    def grade(self):\n",
    "        \n",
    "        avg = statistics.mean(self.marks.values())\n",
    "        if avg > 80:\n",
    "            return \"Grade A\"\n",
    "        elif avg == 80:\n",
    "            return \"Grade B\"\n",
    "        else:\n",
    "            return \"Grade C\"\n",
    "        \n",
    "# Creating objects \n",
    "\n",
    "exam_points = {\"INFS3420\":78, \"INFS4425\":69, \"INFS4432\":81 }\n",
    "\n",
    "std1 = StudentGrade(\"Waqas\", exam_points)\n",
    "\n",
    " #---------------------------------------------------------------------------------- \n",
    "  #                      Accessing class method\n",
    "  #----------------------------------------------------------------------------------- \n",
    "\n",
    "std1.grade()"
   ]
  },
  {
   "cell_type": "code",
   "execution_count": null,
   "id": "9274cc0b",
   "metadata": {},
   "outputs": [],
   "source": []
  }
 ],
 "metadata": {
  "celltoolbar": "Slideshow",
  "kernelspec": {
   "display_name": "Python 3 (ipykernel)",
   "language": "python",
   "name": "python3"
  },
  "language_info": {
   "codemirror_mode": {
    "name": "ipython",
    "version": 3
   },
   "file_extension": ".py",
   "mimetype": "text/x-python",
   "name": "python",
   "nbconvert_exporter": "python",
   "pygments_lexer": "ipython3",
   "version": "3.9.12"
  }
 },
 "nbformat": 4,
 "nbformat_minor": 5
}
