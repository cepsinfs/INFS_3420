{
 "cells": [
  {
   "cell_type": "markdown",
   "id": "9d02b128",
   "metadata": {},
   "source": [
    "# *If-elif-else* Statements in Python\n",
    "\n",
    "* A program, most of the time, has some kind of **control flow**\n",
    "    * For example, a student gets a grade \"A\", if he/she has scored more than 92% marks. Otherwise, some other grade is assigned\n",
    "* Such flow of the program execution can be managed with the if/else statements in Python\n",
    "\n",
    "### Syntax\n",
    "\n",
    "<div class = \"alert alert-block alert-info\">\n",
    "\n",
    "                            if condition_is met:\n",
    "                                execute_statement_1\n",
    "                                execute_statement_1\n",
    "\n",
    "                            else:\n",
    "                                execute_otherwise_1\n",
    "   \n",
    "</div>\n",
    "\n",
    "\n",
    "                                           \n"
   ]
  },
  {
   "cell_type": "markdown",
   "id": "d90060f4",
   "metadata": {},
   "source": [
    "* The *if* statement checks a (boolen) condition, followed by a **:**\n",
    "* Notice the indentation (spacing) before the \"execute_statement_1/2\". This is **very cruicial** and indicates that when the condition is met, this (body) of the *if* statement will be executed\n",
    "* If the condition is not met, the *else* body will be executed. **Note:** Their is no condition to be checked in the *else* statement, and it MUST ends with **:** symbol\n",
    "* If there are more conditions to be checked, we check them with the **elif** (else if) statements. For each new condition, a separate *elif* statement should be coded. In that case, the syntax will become:\n",
    "\n",
    "<div class = \"alert alert-block alert-warning\">\n",
    "    \n",
    "                                            if condition_is met:\n",
    "                                                execute_statement_1\n",
    "                                                execute_statement_1\n",
    "\n",
    "                                            elif condition_is met:\n",
    "                                                execute_statement_2\n",
    "                                                execute_statement_2\n",
    "                                                \n",
    "                                            elif condition_is met:\n",
    "                                                execute_statement_3\n",
    "                                                execute_statement_4\n",
    "                                                \n",
    "                                             else:\n",
    "                                                execute_otherwise_5\n",
    "</div>"
   ]
  },
  {
   "cell_type": "markdown",
   "id": "294b028f",
   "metadata": {},
   "source": [
    "# <center> <div class=\"alert alert-block alert-warning\"> Mind the indentation</div> </center> "
   ]
  },
  {
   "cell_type": "markdown",
   "id": "b032da6c",
   "metadata": {},
   "source": [
    "### *if-else* example"
   ]
  },
  {
   "cell_type": "code",
   "execution_count": 15,
   "id": "a2744fb1",
   "metadata": {},
   "outputs": [
    {
     "name": "stdout",
     "output_type": "stream",
     "text": [
      "AC is working fine!!\n"
     ]
    }
   ],
   "source": [
    "# Aircondition check\n",
    "\n",
    "ac_on = True\n",
    "\n",
    "if ac_on:          # No need to say \"if ac_on == True\", \n",
    "    print(\"AC is working fine!!\")\n",
    "    \n",
    "else: \n",
    "    print(\"AC seems to be damaged :( \")\n"
   ]
  },
  {
   "cell_type": "code",
   "execution_count": 4,
   "id": "043cc144",
   "metadata": {},
   "outputs": [
    {
     "name": "stdout",
     "output_type": "stream",
     "text": [
      "AC seems to be damaged :( \n"
     ]
    }
   ],
   "source": [
    "# Aircondition check\n",
    "\n",
    "ac_on = True\n",
    "\n",
    "if not(ac_on):  # the not keyword reverses the condition\n",
    "    print(\"AC is working fine!!\")\n",
    "    \n",
    "else: \n",
    "    print(\"AC seems to be damaged :( \")"
   ]
  },
  {
   "cell_type": "markdown",
   "id": "e4081984",
   "metadata": {},
   "source": [
    "## *if-elif-else* Example"
   ]
  },
  {
   "cell_type": "code",
   "execution_count": 9,
   "id": "e2f7cd71",
   "metadata": {},
   "outputs": [
    {
     "name": "stdout",
     "output_type": "stream",
     "text": [
      "What the temperature today? 46\n",
      "Wront input!!. It cant be that hot\n"
     ]
    }
   ],
   "source": [
    "# Weather feel example\n",
    "\n",
    "temperature = int(input(\"What the temperature today? \"))\n",
    "\n",
    "if 27 < temperature < 45:\n",
    "    print(\"It's quite hot today\")\n",
    "\n",
    "elif 27 >= temperature >= 23:\n",
    "    print(\"It's a pleasent weather today!!\")\n",
    "    \n",
    "elif temperature < 23:\n",
    "    print(\"It's a cold day!\")\n",
    "    \n",
    "else:\n",
    "    print(\"Wrong input!!. It cant be that hot\")"
   ]
  },
  {
   "cell_type": "markdown",
   "id": "2bb16a11",
   "metadata": {},
   "source": [
    "## Homework\n",
    "\n",
    "* Create a list or dictionary of your marks in six courses\n",
    "* Find out your total and overall average marks\n",
    "* Check:\n",
    "    * if average score is above 90, print that you have score grade \"A\"\n",
    "    * if your average score is above 80, print that you have score grade \"B\"\n",
    "    * if your average score is above 60, print that you have score grade \"C\"\n",
    "    * if your average score is above 50, print that you have score grade \"D\"\n",
    "    * if your average score is 50 or below, print that you fell into a probation\n",
    "\n",
    "### Do check your logic/semantics\n"
   ]
  }
 ],
 "metadata": {
  "kernelspec": {
   "display_name": "Python 3 (ipykernel)",
   "language": "python",
   "name": "python3"
  },
  "language_info": {
   "codemirror_mode": {
    "name": "ipython",
    "version": 3
   },
   "file_extension": ".py",
   "mimetype": "text/x-python",
   "name": "python",
   "nbconvert_exporter": "python",
   "pygments_lexer": "ipython3",
   "version": "3.9.12"
  }
 },
 "nbformat": 4,
 "nbformat_minor": 5
}
