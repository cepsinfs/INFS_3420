{
 "cells": [
  {
   "cell_type": "markdown",
   "id": "4b3adbfe",
   "metadata": {},
   "source": [
    "# 15 - Functions and Methods in Python- Part 2"
   ]
  },
  {
   "cell_type": "markdown",
   "id": "9541da49",
   "metadata": {},
   "source": [
    "### Just a recall\n",
    "\n",
    "* **Functions** are called just by calling their name (with arguments if any). **They are not associated with any object** (class, string, list , etc.) "
   ]
  },
  {
   "cell_type": "markdown",
   "id": "65f3d9db",
   "metadata": {},
   "source": [
    "## Built-in Functions"
   ]
  },
  {
   "cell_type": "code",
   "execution_count": 1,
   "id": "3e011bbe",
   "metadata": {},
   "outputs": [],
   "source": [
    "# print(), len(), sum(), type(), str(), int(), range(), etc.\n",
    "\n",
    "# enumerate(), abs(), pow() zip(), min(), max(), randint(), shuffle()"
   ]
  },
  {
   "cell_type": "markdown",
   "id": "e5b7898b",
   "metadata": {},
   "source": [
    "```enumerate()``` disclosed an object and return an index, value tuple pair\n"
   ]
  },
  {
   "cell_type": "code",
   "execution_count": 2,
   "id": "1d708194",
   "metadata": {},
   "outputs": [
    {
     "name": "stdout",
     "output_type": "stream",
     "text": [
      "((0, 1), (1, 3), (2, 2), (3, 5), (4, 6), (5, 7), (6, 'Hello'))\n",
      "1 is at location 0\n",
      "3 is at location 1\n",
      "2 is at location 2\n",
      "5 is at location 3\n",
      "6 is at location 4\n",
      "7 is at location 5\n",
      "Hello is at location 6\n"
     ]
    }
   ],
   "source": [
    "mylist = [1, 3, 2, 5, 6, 7, \"Hello\"]\n",
    "\n",
    "tup = tuple(enumerate(mylist))\n",
    "\n",
    "print(tup)\n",
    "\n",
    "#Print them in a more descriptive manner as follows\n",
    "\n",
    "for loc, item in enumerate(mylist):\n",
    "    print(f\"{item} is at location {loc}\")"
   ]
  },
  {
   "cell_type": "markdown",
   "id": "63e03afa",
   "metadata": {},
   "source": [
    "```abs()``` returns the absolute (positive) value of a negative number"
   ]
  },
  {
   "cell_type": "code",
   "execution_count": 3,
   "id": "815c83ad",
   "metadata": {},
   "outputs": [
    {
     "data": {
      "text/plain": [
       "34.9"
      ]
     },
     "execution_count": 3,
     "metadata": {},
     "output_type": "execute_result"
    }
   ],
   "source": [
    "abs(-34.9)"
   ]
  },
  {
   "cell_type": "markdown",
   "id": "d79136cc",
   "metadata": {},
   "source": [
    "```pow(x,y)``` return the value of x to the power y"
   ]
  },
  {
   "cell_type": "code",
   "execution_count": 4,
   "id": "e5638085",
   "metadata": {},
   "outputs": [
    {
     "data": {
      "text/plain": [
       "8"
      ]
     },
     "execution_count": 4,
     "metadata": {},
     "output_type": "execute_result"
    }
   ],
   "source": [
    "pow(2, 3)"
   ]
  },
  {
   "cell_type": "markdown",
   "id": "10fd05c8",
   "metadata": {},
   "source": [
    "```zip()``` takes ain iterable objects (tuples, list, etc), combines them one-one and return the zip object as a single tuple. \n",
    "\n",
    "> If the passed iterators have different lengths, the iterator with the least items decides the length of the new iterator.\n"
   ]
  },
  {
   "cell_type": "code",
   "execution_count": 5,
   "id": "2adf0fa2",
   "metadata": {},
   "outputs": [
    {
     "name": "stdout",
     "output_type": "stream",
     "text": [
      "Zipped lists with same length: [(1, 8), (3, 9), (2, 10), (5, 11), (6, 12), (7, 13), ('Hello', 'python')]\n",
      "Zipped lists with different lengths: [(8, 'a'), (9, 'b'), (10, 20)]\n"
     ]
    }
   ],
   "source": [
    "list2 = [8, 9, 10, 11, 12, 13, 'python']\n",
    "x = zip(mylist, list2)\n",
    "\n",
    "print(\"Zipped lists with same length:\", list(x))\n",
    "\n",
    "list3 = ['a', 'b', 20]\n",
    "\n",
    "y = zip(list2, list3)\n",
    "print(\"Zipped lists with different lengths:\", list(y))\n"
   ]
  },
  {
   "cell_type": "markdown",
   "id": "b3c5046e",
   "metadata": {},
   "source": [
    "```min()``` and ```max()``` returns the minimum and maximum number in a list"
   ]
  },
  {
   "cell_type": "code",
   "execution_count": 6,
   "id": "25055462",
   "metadata": {},
   "outputs": [
    {
     "name": "stdout",
     "output_type": "stream",
     "text": [
      "The lowest number in the list is: 1\n",
      "The lowest number in the list is: 20.1\n"
     ]
    }
   ],
   "source": [
    "numbers = [3.5, 4, 5, 1, 2, 20.1]\n",
    "\n",
    "print(\"The lowest number in the list is:\", min(numbers))\n",
    "print(\"The lowest number in the list is:\", max(numbers))"
   ]
  },
  {
   "cell_type": "markdown",
   "id": "826c8584",
   "metadata": {},
   "source": [
    "## Importing functions"
   ]
  },
  {
   "cell_type": "code",
   "execution_count": 12,
   "id": "2c2e17e3",
   "metadata": {},
   "outputs": [
    {
     "name": "stdout",
     "output_type": "stream",
     "text": [
      "Before shuffeling:  [3.5, 4, 5, 1, 2, 20.1]\n",
      "After Shuffeling:  [3.5, 4, 1, 5, 20.1, 2]\n"
     ]
    }
   ],
   "source": [
    "import random # imports the entire library\n",
    "\n",
    "from random import randint #imports a specific function\n",
    "from random import shuffle\n",
    "\n",
    "randint(0, 100000)\n",
    "\n",
    "print(\"Before shuffeling: \", numbers)\n",
    "shuffle(numbers)\n",
    "print(\"After Shuffeling: \", numbers)\n"
   ]
  },
  {
   "cell_type": "markdown",
   "id": "23affdb7",
   "metadata": {},
   "source": [
    "# NEXT -- User-defined Functions"
   ]
  }
 ],
 "metadata": {
  "kernelspec": {
   "display_name": "Python 3 (ipykernel)",
   "language": "python",
   "name": "python3"
  },
  "language_info": {
   "codemirror_mode": {
    "name": "ipython",
    "version": 3
   },
   "file_extension": ".py",
   "mimetype": "text/x-python",
   "name": "python",
   "nbconvert_exporter": "python",
   "pygments_lexer": "ipython3",
   "version": "3.9.12"
  }
 },
 "nbformat": 4,
 "nbformat_minor": 5
}
